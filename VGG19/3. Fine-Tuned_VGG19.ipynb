{
 "cells": [
  {
   "cell_type": "code",
   "execution_count": 1,
   "id": "9b9e3cd4",
   "metadata": {},
   "outputs": [],
   "source": [
    "from fairness_sdk.data_preparation import RAFDB_subgroups_init, RAFDB_loader_api\n",
    "import matplotlib.pyplot as plt\n",
    "import numpy as np\n",
    "%matplotlib inline"
   ]
  },
  {
   "cell_type": "code",
   "execution_count": 2,
   "id": "4280351d",
   "metadata": {},
   "outputs": [],
   "source": [
    "from tensorflow.keras.applications import VGG19"
   ]
  },
  {
   "cell_type": "code",
   "execution_count": 3,
   "id": "35377d44",
   "metadata": {},
   "outputs": [],
   "source": [
    "from tensorflow.keras.layers import Dense, GlobalAveragePooling2D\n",
    "from tensorflow.keras.models import Model"
   ]
  },
  {
   "cell_type": "code",
   "execution_count": 4,
   "id": "c90c5738",
   "metadata": {},
   "outputs": [],
   "source": [
    "from tensorflow.keras.callbacks import ModelCheckpoint, EarlyStopping\n",
    "from tensorflow.keras.optimizers import Adam"
   ]
  },
  {
   "cell_type": "code",
   "execution_count": 5,
   "id": "89d34dfa",
   "metadata": {},
   "outputs": [],
   "source": [
    "from sklearn.model_selection import train_test_split"
   ]
  },
  {
   "cell_type": "markdown",
   "id": "89e03573",
   "metadata": {},
   "source": [
    "## 1. Chargement des données de RAF-DB\n",
    "### 1. 1 Définition des constantes (chemin de la BD, dimensions, etc.)"
   ]
  },
  {
   "cell_type": "code",
   "execution_count": 6,
   "id": "ffecbf61",
   "metadata": {},
   "outputs": [],
   "source": [
    "FEATURES_PATH = '/export/livia/home/datasets/RAF/basic/Image/aligned/'\n",
    "ANNOTATIONS_PATH = '/export/livia/home/datasets/RAF/basic/Annotation/manual/Landmarks_5/'\n",
    "LABELS_PATH = '/export/livia/home/datasets/RAF/basic/EmoLabel/list_patition_label.txt'\n",
    "img_rows, img_cols, img_channels, num_classes = 224, 224, 3, 7"
   ]
  },
  {
   "cell_type": "markdown",
   "id": "db88e7e8",
   "metadata": {},
   "source": [
    "### 1. 2 Chargement des données"
   ]
  },
  {
   "cell_type": "code",
   "execution_count": 7,
   "id": "a73de3f0",
   "metadata": {},
   "outputs": [],
   "source": [
    "raf_db = RAFDB_loader_api(FEATURES_PATH, ANNOTATIONS_PATH, LABELS_PATH, True)"
   ]
  },
  {
   "cell_type": "markdown",
   "id": "1c4ebbbe",
   "metadata": {},
   "source": [
    "### 1. 3 Initialisation des sous-groupes"
   ]
  },
  {
   "cell_type": "code",
   "execution_count": 10,
   "id": "b6deaa9a",
   "metadata": {},
   "outputs": [],
   "source": [
    "train_images_gender, train_labels_gender, train_images_race, train_labels_race = RAFDB_subgroups_init()"
   ]
  },
  {
   "cell_type": "markdown",
   "id": "f3c76ce7",
   "metadata": {},
   "source": [
    "### 1. 4. 1 Séparation des sous-groupes (pour la visualisation)"
   ]
  },
  {
   "cell_type": "code",
   "execution_count": 11,
   "id": "7ce8cf8c",
   "metadata": {},
   "outputs": [],
   "source": [
    "train_images_gender['male'] = np.array(raf_db['images_gender']['male'])\n",
    "train_labels_gender['male'] = np.array(raf_db['labels_gender']['male'])\n",
    "train_images_gender['female'] = np.array(raf_db['images_gender']['female'])\n",
    "train_labels_gender['female'] = np.array(raf_db['labels_gender']['female'])\n",
    "\n",
    "train_images_race['caucasian'] = np.array(raf_db['images_race']['caucasian'])\n",
    "train_labels_race['caucasian'] = np.array(raf_db['labels_race']['caucasian'])\n",
    "train_images_race['asian'] = np.array(raf_db['images_race']['asian'])\n",
    "train_labels_race['asian'] = np.array(raf_db['labels_race']['asian'])\n",
    "train_images_race['african'] = np.array(raf_db['images_race']['african'])\n",
    "train_labels_race['african'] = np.array(raf_db['labels_race']['african'])"
   ]
  },
  {
   "cell_type": "markdown",
   "id": "95f8f492",
   "metadata": {},
   "source": [
    "### 1. 4. 2 Reconstruction de la base de données"
   ]
  },
  {
   "cell_type": "code",
   "execution_count": 12,
   "id": "0924756b",
   "metadata": {},
   "outputs": [],
   "source": [
    "# Combine the subgroups into a single dataset\n",
    "train_images = np.concatenate((train_images_gender['male'], train_images_gender['female'], train_images_race['caucasian'], train_images_race['asian'], train_images_race['african']), axis=0)\n",
    "train_labels = np.concatenate((train_labels_gender['male'], train_labels_gender['female'], train_labels_race['caucasian'], train_labels_race['asian'], train_labels_race['african']), axis=0)"
   ]
  },
  {
   "cell_type": "markdown",
   "id": "fdcefb06",
   "metadata": {},
   "source": [
    "## 2. Apprentissage de VGG19 avec fine tuning"
   ]
  },
  {
   "cell_type": "code",
   "execution_count": 13,
   "id": "593bb7d7",
   "metadata": {},
   "outputs": [],
   "source": [
    "# Instantiate the model\n",
    "base_model = VGG19(weights='imagenet', include_top=False, input_shape=(img_rows, img_cols, img_channels))\n",
    "\n",
    "# Add a global average pooling layer and a dense layer on top\n",
    "x = base_model.output\n",
    "x = GlobalAveragePooling2D()(x)\n",
    "x = Dense(1024, activation='relu')(x)\n",
    "predictions = Dense(num_classes, activation='softmax')(x)\n",
    "\n",
    "# Create the model\n",
    "model = Model(inputs=base_model.input, outputs=predictions)\n",
    "\n",
    "# Freeze the VGG19 layers\n",
    "for layer in base_model.layers:\n",
    "    layer.trainable = False\n",
    "\n",
    "# Unfreeze the top 10 layers (fine tuning)\n",
    "for layer in model.layers[-10:]:\n",
    "    layer.trainable = True"
   ]
  },
  {
   "cell_type": "code",
   "execution_count": 14,
   "id": "52bd51fb",
   "metadata": {},
   "outputs": [],
   "source": [
    "from tensorflow.keras.optimizers import Adam"
   ]
  },
  {
   "cell_type": "code",
   "execution_count": 15,
   "id": "9c5c0f64",
   "metadata": {},
   "outputs": [],
   "source": [
    "# Compile the model\n",
    "model.compile(optimizer=Adam(lr=0.0001), loss='categorical_crossentropy', metrics=['accuracy'])\n",
    "\n",
    "# Train the model with data augmentation\n",
    "batch_size = 32"
   ]
  },
  {
   "cell_type": "code",
   "execution_count": 16,
   "id": "c89a0501",
   "metadata": {},
   "outputs": [],
   "source": [
    "# Define checkpoint and early stopping callbacks\n",
    "checkpoint_dir = './checkpointsv2'\n",
    "checkpoint_file = checkpoint_dir + '/best_fine_tuned_VGG19.h5'\n",
    "checkpoint = ModelCheckpoint(filepath=checkpoint_file, monitor='val_accuracy', save_best_only=True, mode='max')\n",
    "early_stop = EarlyStopping(monitor='val_loss', patience=5, mode='min')"
   ]
  },
  {
   "cell_type": "code",
   "execution_count": 17,
   "id": "fe4a20ae",
   "metadata": {},
   "outputs": [
    {
     "name": "stdout",
     "output_type": "stream",
     "text": [
      "Epoch 1/100\n",
      "614/614 [==============================] - 68s 97ms/step - loss: 1.4110 - accuracy: 0.5007 - val_loss: 0.7914 - val_accuracy: 0.7213\n",
      "Epoch 2/100\n",
      "614/614 [==============================] - 54s 89ms/step - loss: 0.6904 - accuracy: 0.7604 - val_loss: 0.5564 - val_accuracy: 0.8071\n",
      "Epoch 3/100\n",
      "614/614 [==============================] - 55s 89ms/step - loss: 0.3864 - accuracy: 0.8682 - val_loss: 0.2591 - val_accuracy: 0.9136\n",
      "Epoch 4/100\n",
      "614/614 [==============================] - 55s 89ms/step - loss: 0.1786 - accuracy: 0.9422 - val_loss: 0.1614 - val_accuracy: 0.9487\n",
      "Epoch 5/100\n",
      "614/614 [==============================] - 55s 89ms/step - loss: 0.0966 - accuracy: 0.9695 - val_loss: 0.1923 - val_accuracy: 0.9352\n",
      "Epoch 6/100\n",
      "614/614 [==============================] - 55s 89ms/step - loss: 0.0807 - accuracy: 0.9727 - val_loss: 0.0524 - val_accuracy: 0.9859\n",
      "Epoch 7/100\n",
      "614/614 [==============================] - 55s 89ms/step - loss: 0.0628 - accuracy: 0.9795 - val_loss: 0.0604 - val_accuracy: 0.9829\n",
      "Epoch 8/100\n",
      "614/614 [==============================] - 55s 89ms/step - loss: 0.0497 - accuracy: 0.9847 - val_loss: 0.0321 - val_accuracy: 0.9912\n",
      "Epoch 9/100\n",
      "614/614 [==============================] - 55s 89ms/step - loss: 0.0410 - accuracy: 0.9863 - val_loss: 0.0356 - val_accuracy: 0.9900\n",
      "Epoch 10/100\n",
      "614/614 [==============================] - 55s 89ms/step - loss: 0.0420 - accuracy: 0.9869 - val_loss: 0.0838 - val_accuracy: 0.9705\n",
      "Epoch 11/100\n",
      "614/614 [==============================] - 55s 89ms/step - loss: 0.0208 - accuracy: 0.9932 - val_loss: 0.0495 - val_accuracy: 0.9841\n",
      "Epoch 12/100\n",
      "614/614 [==============================] - 55s 89ms/step - loss: 0.0444 - accuracy: 0.9857 - val_loss: 0.0142 - val_accuracy: 0.9955\n",
      "Epoch 13/100\n",
      "614/614 [==============================] - 55s 89ms/step - loss: 0.0321 - accuracy: 0.9896 - val_loss: 0.1535 - val_accuracy: 0.9603\n",
      "Epoch 14/100\n",
      "614/614 [==============================] - 55s 89ms/step - loss: 0.0500 - accuracy: 0.9851 - val_loss: 0.0394 - val_accuracy: 0.9866\n",
      "Epoch 15/100\n",
      "614/614 [==============================] - 55s 89ms/step - loss: 0.0317 - accuracy: 0.9890 - val_loss: 0.0195 - val_accuracy: 0.9931\n",
      "Epoch 16/100\n",
      "614/614 [==============================] - 55s 89ms/step - loss: 0.0295 - accuracy: 0.9904 - val_loss: 0.1126 - val_accuracy: 0.9703\n",
      "Epoch 17/100\n",
      "614/614 [==============================] - 55s 89ms/step - loss: 0.0221 - accuracy: 0.9935 - val_loss: 0.1865 - val_accuracy: 0.9468\n"
     ]
    }
   ],
   "source": [
    "history = model.fit(train_images, train_labels, batch_size=batch_size, epochs=100, validation_split=0.2, callbacks=[checkpoint, early_stop], verbose=1)"
   ]
  },
  {
   "cell_type": "code",
   "execution_count": 27,
   "id": "9f1125ab",
   "metadata": {},
   "outputs": [
    {
     "data": {
      "image/png": "[encoded data removed]",
      "text/plain": [
       "<Figure size 432x288 with 1 Axes>"
      ]
     },
     "metadata": {
      "needs_background": "light"
     },
     "output_type": "display_data"
    },
    {
     "data": {
      "image/png": "[encoded data removed]",
      "text/plain": [
       "<Figure size 432x288 with 1 Axes>"
      ]
     },
     "metadata": {
      "needs_background": "light"
     },
     "output_type": "display_data"
    }
   ],
   "source": [
    "# Plot the accuracy for each epoch\n",
    "plt.plot(history.history['accuracy'])\n",
    "plt.plot(history.history['val_accuracy'])\n",
    "plt.title('Model accuracy')\n",
    "plt.xlabel('Epoch')\n",
    "plt.ylabel('Accuracy')\n",
    "plt.legend(['Train', 'Validation'], loc='upper left')\n",
    "plt.show()\n",
    "\n",
    "# Plot the loss for each epoch\n",
    "plt.plot(history.history['loss'])\n",
    "plt.plot(history.history['val_loss'])\n",
    "plt.title('Model loss')\n",
    "plt.xlabel('Epoch')\n",
    "plt.ylabel('Loss')\n",
    "plt.legend(['Train', 'Validation'], loc='upper left')\n",
    "plt.show()"
   ]
  },
  {
   "cell_type": "code",
   "execution_count": null,
   "id": "6a128691",
   "metadata": {},
   "outputs": [],
   "source": []
  }
 ],
 "metadata": {
  "kernelspec": {
   "display_name": "Python 3",
   "language": "python",
   "name": "python3"
  },
  "language_info": {
   "codemirror_mode": {
    "name": "ipython",
    "version": 3
   },
   "file_extension": ".py",
   "mimetype": "text/x-python",
   "name": "python",
   "nbconvert_exporter": "python",
   "pygments_lexer": "ipython3",
   "version": "3.8.8"
  }
 },
 "nbformat": 4,
 "nbformat_minor": 5
}
