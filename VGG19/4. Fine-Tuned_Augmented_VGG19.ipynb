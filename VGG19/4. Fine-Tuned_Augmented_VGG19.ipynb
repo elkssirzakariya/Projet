{
 "cells": [
  {
   "cell_type": "code",
   "execution_count": 1,
   "id": "c1de1f5d",
   "metadata": {},
   "outputs": [],
   "source": [
    "from fairness_sdk.data_preparation import RAFDB_subgroups_init, RAFDB_loader_api\n",
    "import matplotlib.pyplot as plt\n",
    "import numpy as np\n",
    "from tensorflow.keras.applications import VGG19\n",
    "from tensorflow.keras.layers import Dense, GlobalAveragePooling2D\n",
    "from tensorflow.keras.models import Model\n",
    "from tensorflow.keras.callbacks import ModelCheckpoint, EarlyStopping\n",
    "from tensorflow.keras.optimizers import Adam\n",
    "from sklearn.model_selection import train_test_split\n",
    "from tensorflow.keras.preprocessing.image import ImageDataGenerator\n",
    "%matplotlib inline"
   ]
  },
  {
   "cell_type": "markdown",
   "id": "7ad0c12b",
   "metadata": {},
   "source": [
    "## 1. Chargement des données de RAF-DB\n",
    "### 1. 1 Définition des constantes (chemin de la BD, dimensions, etc.)"
   ]
  },
  {
   "cell_type": "code",
   "execution_count": 2,
   "id": "41047d3f",
   "metadata": {},
   "outputs": [],
   "source": [
    "FEATURES_PATH = '/export/livia/home/datasets/RAF/basic/Image/aligned/'\n",
    "ANNOTATIONS_PATH = '/export/livia/home/datasets/RAF/basic/Annotation/manual/Landmarks_5/'\n",
    "LABELS_PATH = '/export/livia/home/datasets/RAF/basic/EmoLabel/list_patition_label.txt'\n",
    "img_rows, img_cols, img_channels, num_classes = 224, 224, 3, 7"
   ]
  },
  {
   "cell_type": "markdown",
   "id": "8140c909",
   "metadata": {},
   "source": [
    "### 1. 2 Chargement des données"
   ]
  },
  {
   "cell_type": "code",
   "execution_count": 3,
   "id": "dfd7b3fd",
   "metadata": {},
   "outputs": [],
   "source": [
    "raf_db = RAFDB_loader_api(FEATURES_PATH, ANNOTATIONS_PATH, LABELS_PATH, True)"
   ]
  },
  {
   "cell_type": "markdown",
   "id": "d2c81208",
   "metadata": {},
   "source": [
    "### 1. 3 Initialisation des sous-groupes"
   ]
  },
  {
   "cell_type": "code",
   "execution_count": 4,
   "id": "91377aa1",
   "metadata": {},
   "outputs": [],
   "source": [
    "train_images_gender, train_labels_gender, train_images_race, train_labels_race = RAFDB_subgroups_init()"
   ]
  },
  {
   "cell_type": "markdown",
   "id": "ac6c9c2e",
   "metadata": {},
   "source": [
    "### 1. 4. 1 Séparation des sous-groupes (pour la visualisation)"
   ]
  },
  {
   "cell_type": "code",
   "execution_count": 5,
   "id": "9ab3ef38",
   "metadata": {},
   "outputs": [],
   "source": [
    "train_images_gender['male'] = np.array(raf_db['images_gender']['male'])\n",
    "train_labels_gender['male'] = np.array(raf_db['labels_gender']['male'])\n",
    "train_images_gender['female'] = np.array(raf_db['images_gender']['female'])\n",
    "train_labels_gender['female'] = np.array(raf_db['labels_gender']['female'])\n",
    "\n",
    "train_images_race['caucasian'] = np.array(raf_db['images_race']['caucasian'])\n",
    "train_labels_race['caucasian'] = np.array(raf_db['labels_race']['caucasian'])\n",
    "train_images_race['asian'] = np.array(raf_db['images_race']['asian'])\n",
    "train_labels_race['asian'] = np.array(raf_db['labels_race']['asian'])\n",
    "train_images_race['african'] = np.array(raf_db['images_race']['african'])\n",
    "train_labels_race['african'] = np.array(raf_db['labels_race']['african'])"
   ]
  },
  {
   "cell_type": "markdown",
   "id": "42768ced",
   "metadata": {},
   "source": [
    "### 1. 4. 2 Reconstruction de la base de données"
   ]
  },
  {
   "cell_type": "code",
   "execution_count": 6,
   "id": "2eace861",
   "metadata": {},
   "outputs": [],
   "source": [
    "# Combine the subgroups into a single dataset\n",
    "train_images = np.concatenate((train_images_gender['male'], train_images_gender['female'], train_images_race['caucasian'], train_images_race['asian'], train_images_race['african']), axis=0)\n",
    "train_labels = np.concatenate((train_labels_gender['male'], train_labels_gender['female'], train_labels_race['caucasian'], train_labels_race['asian'], train_labels_race['african']), axis=0)"
   ]
  },
  {
   "cell_type": "markdown",
   "id": "579e0646",
   "metadata": {},
   "source": [
    "## 2. Augmentation de la base de données"
   ]
  },
  {
   "cell_type": "code",
   "execution_count": 7,
   "id": "92fa5eb1",
   "metadata": {},
   "outputs": [],
   "source": [
    "# Split the data into training and validation sets\n",
    "train_images, val_images, train_labels, val_labels = train_test_split(train_images, train_labels, test_size=0.2, random_state=42)\n",
    "\n",
    "# Create an instance of the ImageDataGenerator class with the desired data augmentation parameters\n",
    "datagen = ImageDataGenerator(\n",
    "    rotation_range=20, # Rotate images randomly by 20 degrees\n",
    "    width_shift_range=0.1, # Shift images horizontally by up to 10% of the width\n",
    "    height_shift_range=0.1, # Shift images vertically by up to 10% of the height\n",
    "    shear_range=0.2, # Apply shearing transformation with a maximum shear of 20%\n",
    "    zoom_range=0.2, # Randomly zoom in and out by 20%\n",
    "    horizontal_flip=True, # Flip images horizontally\n",
    "    fill_mode='nearest' # Fill any empty pixels with the nearest value\n",
    ")\n",
    "\n",
    "# Fit the ImageDataGenerator to the training data\n",
    "datagen.fit(train_images)"
   ]
  },
  {
   "cell_type": "markdown",
   "id": "1aa65545",
   "metadata": {},
   "source": [
    "## 3. Apprentissage de VGG19 avec fine tuning et augmentation"
   ]
  },
  {
   "cell_type": "code",
   "execution_count": 8,
   "id": "658b85f3",
   "metadata": {},
   "outputs": [],
   "source": [
    "# Instantiate the model\n",
    "base_model = VGG19(weights='imagenet', include_top=False, input_shape=(img_rows, img_cols, img_channels))\n",
    "\n",
    "# Add a global average pooling layer and a dense layer on top\n",
    "x = base_model.output\n",
    "x = GlobalAveragePooling2D()(x)\n",
    "x = Dense(1024, activation='relu')(x)\n",
    "predictions = Dense(num_classes, activation='softmax')(x)\n",
    "\n",
    "# Create the model\n",
    "model = Model(inputs=base_model.input, outputs=predictions)\n",
    "\n",
    "# Freeze the VGG19 layers\n",
    "for layer in base_model.layers:\n",
    "    layer.trainable = False\n",
    "\n",
    "# Unfreeze the top 10 layers (fine tuning)\n",
    "for layer in model.layers[-10:]:\n",
    "    layer.trainable = True\n",
    "\n",
    "# Compile the model\n",
    "from tensorflow.keras.optimizers import Adam\n",
    "model.compile(optimizer=Adam(lr=0.0001), loss='categorical_crossentropy', metrics=['accuracy'])\n",
    "\n",
    "# Train the model with data augmentation\n",
    "batch_size = 32\n",
    "steps_per_epoch = train_images.shape[0] // batch_size\n",
    "validation_steps = val_images.shape[0] // batch_size\n",
    "\n",
    "train_generator = datagen.flow(train_images, train_labels, batch_size=batch_size, shuffle=True)\n",
    "val_generator = datagen.flow(val_images, val_labels, batch_size=batch_size, shuffle=False)"
   ]
  },
  {
   "cell_type": "code",
   "execution_count": 9,
   "id": "0d20b849",
   "metadata": {},
   "outputs": [],
   "source": [
    "# Define checkpoint and early stopping callbacks\n",
    "checkpoint_dir = './checkpointsv2'\n",
    "checkpoint_file = checkpoint_dir + '/best_augmented_VGG19.h5'\n",
    "checkpoint = ModelCheckpoint(filepath=checkpoint_file, monitor='val_accuracy', save_best_only=True, mode='max')\n",
    "early_stop = EarlyStopping(monitor='val_loss', patience=5, mode='min')"
   ]
  },
  {
   "cell_type": "code",
   "execution_count": 10,
   "id": "b9a717f9",
   "metadata": {},
   "outputs": [
    {
     "name": "stdout",
     "output_type": "stream",
     "text": [
      "Epoch 1/300\n",
      "613/613 [==============================] - 389s 623ms/step - loss: 1.4428 - accuracy: 0.4781 - val_loss: 0.9819 - val_accuracy: 0.6583\n",
      "Epoch 2/300\n",
      "613/613 [==============================] - 392s 639ms/step - loss: 0.9211 - accuracy: 0.6845 - val_loss: 0.7811 - val_accuracy: 0.7237\n",
      "Epoch 3/300\n",
      "613/613 [==============================] - 387s 631ms/step - loss: 0.7025 - accuracy: 0.7563 - val_loss: 0.7213 - val_accuracy: 0.7386\n",
      "Epoch 4/300\n",
      "613/613 [==============================] - 383s 626ms/step - loss: 0.5666 - accuracy: 0.8013 - val_loss: 0.6326 - val_accuracy: 0.7839\n",
      "Epoch 5/300\n",
      "613/613 [==============================] - 373s 609ms/step - loss: 0.4719 - accuracy: 0.8317 - val_loss: 0.5678 - val_accuracy: 0.8000\n",
      "Epoch 6/300\n",
      "613/613 [==============================] - 378s 617ms/step - loss: 0.3956 - accuracy: 0.8572 - val_loss: 0.4965 - val_accuracy: 0.8290\n",
      "Epoch 7/300\n",
      "613/613 [==============================] - 380s 620ms/step - loss: 0.3385 - accuracy: 0.8848 - val_loss: 0.4243 - val_accuracy: 0.8621\n",
      "Epoch 8/300\n",
      "613/613 [==============================] - 374s 611ms/step - loss: 0.2934 - accuracy: 0.8947 - val_loss: 0.5064 - val_accuracy: 0.8401\n",
      "Epoch 9/300\n",
      "613/613 [==============================] - 379s 618ms/step - loss: 0.2461 - accuracy: 0.9184 - val_loss: 0.4430 - val_accuracy: 0.8589\n",
      "Epoch 10/300\n",
      "613/613 [==============================] - 377s 616ms/step - loss: 0.2281 - accuracy: 0.9207 - val_loss: 0.3889 - val_accuracy: 0.8781\n",
      "Epoch 11/300\n",
      "613/613 [==============================] - 377s 616ms/step - loss: 0.2033 - accuracy: 0.9306 - val_loss: 0.3291 - val_accuracy: 0.8956\n",
      "Epoch 12/300\n",
      "613/613 [==============================] - 380s 620ms/step - loss: 0.1594 - accuracy: 0.9477 - val_loss: 0.3625 - val_accuracy: 0.8848\n",
      "Epoch 13/300\n",
      "613/613 [==============================] - 376s 613ms/step - loss: 0.1598 - accuracy: 0.9440 - val_loss: 0.3350 - val_accuracy: 0.9107\n",
      "Epoch 14/300\n",
      "613/613 [==============================] - 376s 614ms/step - loss: 0.1433 - accuracy: 0.9511 - val_loss: 0.3426 - val_accuracy: 0.9042\n",
      "Epoch 15/300\n",
      "613/613 [==============================] - 391s 638ms/step - loss: 0.1357 - accuracy: 0.9528 - val_loss: 0.3548 - val_accuracy: 0.9067\n",
      "Epoch 16/300\n",
      "613/613 [==============================] - 384s 627ms/step - loss: 0.1219 - accuracy: 0.9577 - val_loss: 0.3039 - val_accuracy: 0.9107\n",
      "Epoch 17/300\n",
      "613/613 [==============================] - 376s 614ms/step - loss: 0.1115 - accuracy: 0.9609 - val_loss: 0.4047 - val_accuracy: 0.8911\n",
      "Epoch 18/300\n",
      "613/613 [==============================] - 381s 621ms/step - loss: 0.1078 - accuracy: 0.9641 - val_loss: 0.3614 - val_accuracy: 0.9105\n",
      "Epoch 19/300\n",
      "613/613 [==============================] - 383s 624ms/step - loss: 0.1121 - accuracy: 0.9612 - val_loss: 0.3477 - val_accuracy: 0.9230\n",
      "Epoch 20/300\n",
      "613/613 [==============================] - 378s 616ms/step - loss: 0.1064 - accuracy: 0.9662 - val_loss: 0.3079 - val_accuracy: 0.9218\n",
      "Epoch 21/300\n",
      "613/613 [==============================] - 396s 646ms/step - loss: 0.0975 - accuracy: 0.9666 - val_loss: 0.4142 - val_accuracy: 0.9054\n"
     ]
    }
   ],
   "source": [
    "history = model.fit(train_generator, steps_per_epoch=steps_per_epoch, epochs=300, validation_data=val_generator, validation_steps=validation_steps, callbacks=[checkpoint, early_stop], verbose=1)"
   ]
  },
  {
   "cell_type": "code",
   "execution_count": 11,
   "id": "04455b52",
   "metadata": {},
   "outputs": [
    {
     "data": {
      "image/png": "[encoded data removed]",
      "text/plain": [
       "<Figure size 432x288 with 1 Axes>"
      ]
     },
     "metadata": {
      "needs_background": "light"
     },
     "output_type": "display_data"
    },
    {
     "data": {
      "image/png": "[encoded data removed]",
      "text/plain": [
       "<Figure size 432x288 with 1 Axes>"
      ]
     },
     "metadata": {
      "needs_background": "light"
     },
     "output_type": "display_data"
    }
   ],
   "source": [
    "# Plot the accuracy for each epoch\n",
    "plt.plot(history.history['accuracy'])\n",
    "plt.plot(history.history['val_accuracy'])\n",
    "plt.title('Model accuracy')\n",
    "plt.xlabel('Epoch')\n",
    "plt.ylabel('Accuracy')\n",
    "plt.legend(['Train', 'Validation'], loc='upper left')\n",
    "plt.show()\n",
    "\n",
    "# Plot the loss for each epoch\n",
    "plt.plot(history.history['loss'])\n",
    "plt.plot(history.history['val_loss'])\n",
    "plt.title('Model loss')\n",
    "plt.xlabel('Epoch')\n",
    "plt.ylabel('Loss')\n",
    "plt.legend(['Train', 'Validation'], loc='upper left')\n",
    "plt.show()"
   ]
  },
  {
   "cell_type": "code",
   "execution_count": null,
   "id": "67c11093",
   "metadata": {},
   "outputs": [],
   "source": []
  }
 ],
 "metadata": {
  "kernelspec": {
   "display_name": "Python 3",
   "language": "python",
   "name": "python3"
  },
  "language_info": {
   "codemirror_mode": {
    "name": "ipython",
    "version": 3
   },
   "file_extension": ".py",
   "mimetype": "text/x-python",
   "name": "python",
   "nbconvert_exporter": "python",
   "pygments_lexer": "ipython3",
   "version": "3.8.8"
  }
 },
 "nbformat": 4,
 "nbformat_minor": 5
}
