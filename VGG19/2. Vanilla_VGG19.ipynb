{
 "cells": [
  {
   "cell_type": "code",
   "execution_count": 1,
   "id": "5cefd055",
   "metadata": {},
   "outputs": [],
   "source": [
    "from fairness_sdk.data_preparation import RAFDB_subgroups_init, RAFDB_loader_api\n",
    "import numpy as np\n",
    "from tensorflow.keras.applications import VGG19\n",
    "from tensorflow.keras.layers import Dense, GlobalAveragePooling2D\n",
    "from tensorflow.keras.models import Model\n",
    "from tensorflow.keras.callbacks import ModelCheckpoint, EarlyStopping"
   ]
  },
  {
   "cell_type": "code",
   "execution_count": 2,
   "id": "c8261a47",
   "metadata": {},
   "outputs": [],
   "source": [
    "import matplotlib.pyplot as plt"
   ]
  },
  {
   "cell_type": "markdown",
   "id": "a0d6a848",
   "metadata": {},
   "source": [
    "## 1. Chargement des données de RAF-DB\n",
    "### 1. 1 Définition des constantes (chemin de la BD, dimensions, etc.)"
   ]
  },
  {
   "cell_type": "code",
   "execution_count": 3,
   "id": "cf4e7b05",
   "metadata": {},
   "outputs": [],
   "source": [
    "FEATURES_PATH = '/export/livia/home/datasets/RAF/basic/Image/aligned/'\n",
    "ANNOTATIONS_PATH = '/export/livia/home/datasets/RAF/basic/Annotation/manual/Landmarks_5/'\n",
    "LABELS_PATH = '/export/livia/home/datasets/RAF/basic/EmoLabel/list_patition_label.txt'\n",
    "img_rows, img_cols, img_channels, num_classes = 224, 224, 3, 7"
   ]
  },
  {
   "cell_type": "markdown",
   "id": "e017a601",
   "metadata": {},
   "source": [
    "### 1. 2 Chargement des données"
   ]
  },
  {
   "cell_type": "code",
   "execution_count": 5,
   "id": "5223d05e",
   "metadata": {},
   "outputs": [],
   "source": [
    "raf_db = RAFDB_loader_api(FEATURES_PATH, ANNOTATIONS_PATH, LABELS_PATH, True)"
   ]
  },
  {
   "cell_type": "markdown",
   "id": "61905c12",
   "metadata": {},
   "source": [
    "### 1. 3 Initialisation des sous-groupes"
   ]
  },
  {
   "cell_type": "code",
   "execution_count": 5,
   "id": "2ddcc42c",
   "metadata": {},
   "outputs": [],
   "source": [
    "train_images_gender, train_labels_gender, train_images_race, train_labels_race = RAFDB_subgroups_init()"
   ]
  },
  {
   "cell_type": "markdown",
   "id": "2708ff1a",
   "metadata": {},
   "source": [
    "### 1. 4. 1 Séparation des sous-groupes (pour la visualisation)"
   ]
  },
  {
   "cell_type": "code",
   "execution_count": 6,
   "id": "c427cb4e",
   "metadata": {},
   "outputs": [],
   "source": [
    "train_images_gender['male'] = np.array(raf_db['images_gender']['male'])\n",
    "train_labels_gender['male'] = np.array(raf_db['labels_gender']['male'])\n",
    "train_images_gender['female'] = np.array(raf_db['images_gender']['female'])\n",
    "train_labels_gender['female'] = np.array(raf_db['labels_gender']['female'])\n",
    "\n",
    "train_images_race['caucasian'] = np.array(raf_db['images_race']['caucasian'])\n",
    "train_labels_race['caucasian'] = np.array(raf_db['labels_race']['caucasian'])\n",
    "train_images_race['asian'] = np.array(raf_db['images_race']['asian'])\n",
    "train_labels_race['asian'] = np.array(raf_db['labels_race']['asian'])\n",
    "train_images_race['african'] = np.array(raf_db['images_race']['african'])\n",
    "train_labels_race['african'] = np.array(raf_db['labels_race']['african'])"
   ]
  },
  {
   "cell_type": "markdown",
   "id": "21d0bb3f",
   "metadata": {},
   "source": [
    "### 1. 4. 2 Reconstruction de la base de données"
   ]
  },
  {
   "cell_type": "code",
   "execution_count": 6,
   "id": "7736c733",
   "metadata": {},
   "outputs": [],
   "source": [
    "train_images = np.concatenate([ raf_db['images_gender']['male'],\n",
    "                                raf_db['images_gender']['female'],\n",
    "                                raf_db['images_race']['caucasian'],\n",
    "                                raf_db['images_race']['asian'],\n",
    "                                raf_db['images_race']['african']\n",
    "])\n",
    "\n",
    "train_labels = np.concatenate([ raf_db['labels_gender']['male'],\n",
    "                                raf_db['labels_gender']['female'],\n",
    "                                raf_db['labels_race']['caucasian'],\n",
    "                                raf_db['labels_race']['asian'],\n",
    "                                raf_db['labels_race']['african']\n",
    "])"
   ]
  },
  {
   "cell_type": "markdown",
   "id": "130477da",
   "metadata": {},
   "source": [
    "## 2. Apprentissage de VGG19 sans fine tuning"
   ]
  },
  {
   "cell_type": "code",
   "execution_count": 4,
   "id": "7d064ff2",
   "metadata": {},
   "outputs": [],
   "source": [
    "# Instantiate the model\n",
    "base_model = VGG19(weights='imagenet', include_top=False, input_shape=(img_rows, img_cols, img_channels))\n",
    "\n",
    "# Add a global average pooling layer and a dense layer on top of the VGG19 baseline model\n",
    "x = base_model.output\n",
    "x = GlobalAveragePooling2D()(x)\n",
    "x = Dense(1024, activation='relu')(x)\n",
    "predictions = Dense(num_classes, activation='softmax')(x)\n",
    "\n",
    "# Create the model\n",
    "model = Model(inputs=base_model.input, outputs=predictions)\n",
    "\n",
    "# Freeze the base model pre-trained layers (so that we do not lose their weights)\n",
    "for layer in base_model.layers:\n",
    "    layer.trainable = False\n",
    "\n",
    "# Compile the model\n",
    "model.compile(optimizer='adam', loss='categorical_crossentropy', metrics=['accuracy'])\n",
    "\n",
    "# Define checkpoint and early stopping callbacks\n",
    "checkpoint_dir = './checkpointsv2'\n",
    "checkpoint_file = checkpoint_dir + '/best_vanilla_VGG19.h5'\n",
    "checkpoint = ModelCheckpoint(filepath=checkpoint_file, monitor='val_accuracy', save_best_only=True, mode='max')\n",
    "early_stop = EarlyStopping(monitor='val_loss', patience=5, mode='min')"
   ]
  },
  {
   "cell_type": "code",
   "execution_count": 7,
   "id": "44f28d4d",
   "metadata": {},
   "outputs": [
    {
     "name": "stdout",
     "output_type": "stream",
     "text": [
      "Epoch 1/100\n",
      "614/614 [==============================] - 63s 85ms/step - loss: 1.9311 - accuracy: 0.4986 - val_loss: 1.1057 - val_accuracy: 0.6024\n",
      "Epoch 2/100\n",
      "614/614 [==============================] - 45s 74ms/step - loss: 0.9794 - accuracy: 0.6449 - val_loss: 1.0643 - val_accuracy: 0.6113\n",
      "Epoch 3/100\n",
      "614/614 [==============================] - 46s 74ms/step - loss: 0.8025 - accuracy: 0.7101 - val_loss: 0.9395 - val_accuracy: 0.6592\n",
      "Epoch 4/100\n",
      "614/614 [==============================] - 46s 75ms/step - loss: 0.6457 - accuracy: 0.7723 - val_loss: 0.7018 - val_accuracy: 0.7448\n",
      "Epoch 5/100\n",
      "614/614 [==============================] - 46s 74ms/step - loss: 0.5051 - accuracy: 0.8235 - val_loss: 0.6195 - val_accuracy: 0.7686\n",
      "Epoch 6/100\n",
      "614/614 [==============================] - 46s 75ms/step - loss: 0.3999 - accuracy: 0.8632 - val_loss: 0.5764 - val_accuracy: 0.7894\n",
      "Epoch 7/100\n",
      "614/614 [==============================] - 46s 75ms/step - loss: 0.3064 - accuracy: 0.8964 - val_loss: 0.4313 - val_accuracy: 0.8446\n",
      "Epoch 8/100\n",
      "614/614 [==============================] - 46s 75ms/step - loss: 0.2429 - accuracy: 0.9198 - val_loss: 0.3313 - val_accuracy: 0.8751\n",
      "Epoch 9/100\n",
      "614/614 [==============================] - 46s 75ms/step - loss: 0.1770 - accuracy: 0.9432 - val_loss: 0.3367 - val_accuracy: 0.8825\n",
      "Epoch 10/100\n",
      "614/614 [==============================] - 46s 75ms/step - loss: 0.1847 - accuracy: 0.9388 - val_loss: 0.2599 - val_accuracy: 0.9085\n",
      "Epoch 11/100\n",
      "614/614 [==============================] - 46s 75ms/step - loss: 0.1414 - accuracy: 0.9536 - val_loss: 0.1500 - val_accuracy: 0.9509\n",
      "Epoch 12/100\n",
      "614/614 [==============================] - 46s 75ms/step - loss: 0.1004 - accuracy: 0.9685 - val_loss: 0.2981 - val_accuracy: 0.9028\n",
      "Epoch 13/100\n",
      "614/614 [==============================] - 46s 75ms/step - loss: 0.1266 - accuracy: 0.9584 - val_loss: 0.2073 - val_accuracy: 0.9232\n",
      "Epoch 14/100\n",
      "614/614 [==============================] - 46s 75ms/step - loss: 0.1059 - accuracy: 0.9644 - val_loss: 0.1418 - val_accuracy: 0.9534\n",
      "Epoch 15/100\n",
      "614/614 [==============================] - 46s 75ms/step - loss: 0.0636 - accuracy: 0.9817 - val_loss: 0.2280 - val_accuracy: 0.9173\n",
      "Epoch 16/100\n",
      "614/614 [==============================] - 46s 75ms/step - loss: 0.1651 - accuracy: 0.9457 - val_loss: 0.1218 - val_accuracy: 0.9611\n",
      "Epoch 17/100\n",
      "614/614 [==============================] - 46s 75ms/step - loss: 0.0671 - accuracy: 0.9789 - val_loss: 0.1601 - val_accuracy: 0.9450\n",
      "Epoch 18/100\n",
      "614/614 [==============================] - 46s 75ms/step - loss: 0.0788 - accuracy: 0.9744 - val_loss: 0.1186 - val_accuracy: 0.9599\n",
      "Epoch 19/100\n",
      "614/614 [==============================] - 46s 75ms/step - loss: 0.0445 - accuracy: 0.9863 - val_loss: 0.1505 - val_accuracy: 0.9464\n",
      "Epoch 20/100\n",
      "614/614 [==============================] - 46s 75ms/step - loss: 0.1078 - accuracy: 0.9628 - val_loss: 0.1264 - val_accuracy: 0.9572\n",
      "Epoch 21/100\n",
      "614/614 [==============================] - 46s 75ms/step - loss: 0.0553 - accuracy: 0.9839 - val_loss: 0.0955 - val_accuracy: 0.9672\n",
      "Epoch 22/100\n",
      "614/614 [==============================] - 46s 75ms/step - loss: 0.0639 - accuracy: 0.9791 - val_loss: 0.0617 - val_accuracy: 0.9798\n",
      "Epoch 23/100\n",
      "614/614 [==============================] - 46s 75ms/step - loss: 0.0811 - accuracy: 0.9750 - val_loss: 0.1499 - val_accuracy: 0.9503\n",
      "Epoch 24/100\n",
      "614/614 [==============================] - 46s 75ms/step - loss: 0.0457 - accuracy: 0.9864 - val_loss: 0.0903 - val_accuracy: 0.9692\n",
      "Epoch 25/100\n",
      "614/614 [==============================] - 46s 75ms/step - loss: 0.0572 - accuracy: 0.9829 - val_loss: 0.1103 - val_accuracy: 0.9646\n",
      "Epoch 26/100\n",
      "614/614 [==============================] - 46s 74ms/step - loss: 0.0740 - accuracy: 0.9770 - val_loss: 0.1150 - val_accuracy: 0.9654\n",
      "Epoch 27/100\n",
      "614/614 [==============================] - 46s 75ms/step - loss: 0.0684 - accuracy: 0.9784 - val_loss: 0.0642 - val_accuracy: 0.9815\n"
     ]
    }
   ],
   "source": [
    "# Train the model\n",
    "history = model.fit(train_images, train_labels, batch_size=32, epochs=100, validation_split=0.2, callbacks=[checkpoint, early_stop], verbose=1)"
   ]
  },
  {
   "cell_type": "code",
   "execution_count": 8,
   "id": "b371fe96",
   "metadata": {},
   "outputs": [
    {
     "data": {
      "image/png": "[encoded data removed]",
      "text/plain": [
       "<Figure size 432x288 with 1 Axes>"
      ]
     },
     "metadata": {
      "needs_background": "light"
     },
     "output_type": "display_data"
    },
    {
     "data": {
      "image/png": "[encoded data removed]",
      "text/plain": [
       "<Figure size 432x288 with 1 Axes>"
      ]
     },
     "metadata": {
      "needs_background": "light"
     },
     "output_type": "display_data"
    }
   ],
   "source": [
    "# Plot the accuracy for each epoch\n",
    "plt.plot(history.history['accuracy'])\n",
    "plt.plot(history.history['val_accuracy'])\n",
    "plt.title('Model accuracy')\n",
    "plt.xlabel('Epoch')\n",
    "plt.ylabel('Accuracy')\n",
    "plt.legend(['Train', 'Validation'], loc='upper left')\n",
    "plt.show()\n",
    "\n",
    "# Plot the loss for each epoch\n",
    "plt.plot(history.history['loss'])\n",
    "plt.plot(history.history['val_loss'])\n",
    "plt.title('Model loss')\n",
    "plt.xlabel('Epoch')\n",
    "plt.ylabel('Loss')\n",
    "plt.legend(['Train', 'Validation'], loc='upper left')\n",
    "plt.show()"
   ]
  },
  {
   "cell_type": "code",
   "execution_count": null,
   "id": "4bf206a5",
   "metadata": {},
   "outputs": [],
   "source": []
  }
 ],
 "metadata": {
  "kernelspec": {
   "display_name": "Python 3",
   "language": "python",
   "name": "python3"
  },
  "language_info": {
   "codemirror_mode": {
    "name": "ipython",
    "version": 3
   },
   "file_extension": ".py",
   "mimetype": "text/x-python",
   "name": "python",
   "nbconvert_exporter": "python",
   "pygments_lexer": "ipython3",
   "version": "3.8.8"
  }
 },
 "nbformat": 4,
 "nbformat_minor": 5
}
