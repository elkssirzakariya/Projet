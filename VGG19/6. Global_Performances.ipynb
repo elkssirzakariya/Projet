{
 "cells": [
  {
   "cell_type": "code",
   "execution_count": 1,
   "id": "6fb176dc",
   "metadata": {},
   "outputs": [],
   "source": [
    "from fairness_sdk.data_preparation import RAFDB_loader_api\n",
    "import numpy as np\n",
    "from tensorflow import keras\n",
    "import matplotlib.pyplot as plt\n",
    "%matplotlib inline"
   ]
  },
  {
   "cell_type": "markdown",
   "id": "7cc2f749",
   "metadata": {},
   "source": [
    "## 1. Chargement des données de RAF-DB\n",
    "### 1. 1 Définition des constantes (chemin de la BD, dimensions, etc.)# I. Data preprocessing"
   ]
  },
  {
   "cell_type": "code",
   "execution_count": 2,
   "id": "cac50435",
   "metadata": {},
   "outputs": [],
   "source": [
    "FEATURES_PATH = '/export/livia/home/datasets/RAF/basic/Image/aligned/'\n",
    "ANNOTATIONS_PATH = '/export/livia/home/datasets/RAF/basic/Annotation/manual/Landmarks_5/'\n",
    "LABELS_PATH = '/export/livia/home/datasets/RAF/basic/EmoLabel/list_patition_label.txt'\n",
    "img_rows, img_cols, img_channels, num_classes = 224, 224, 3, 7"
   ]
  },
  {
   "cell_type": "markdown",
   "id": "1fd2863e",
   "metadata": {},
   "source": [
    "### 1. 2 Chargement des données de test"
   ]
  },
  {
   "cell_type": "code",
   "execution_count": 3,
   "id": "16ac627e",
   "metadata": {},
   "outputs": [],
   "source": [
    "data = RAFDB_loader_api(FEATURES_PATH, ANNOTATIONS_PATH, LABELS_PATH, False)"
   ]
  },
  {
   "cell_type": "code",
   "execution_count": 4,
   "id": "356347ad",
   "metadata": {},
   "outputs": [],
   "source": [
    "# Combine the subgroups into a single dataset\n",
    "test_images = np.concatenate((data['images_gender']['male'], data['images_gender']['female'], data['images_race']['caucasian'], data['images_race']['asian'], data['images_race']['african']), axis=0)\n",
    "test_labels = np.concatenate((data['labels_gender']['male'], data['labels_gender']['female'], data['labels_race']['caucasian'], data['labels_race']['asian'], data['labels_race']['african']), axis=0)"
   ]
  },
  {
   "cell_type": "code",
   "execution_count": 5,
   "id": "017fd783",
   "metadata": {},
   "outputs": [],
   "source": [
    "vanilla_VGG19 = keras.models.load_model('checkpointsv2/best_vanilla_VGG19.h5')"
   ]
  },
  {
   "cell_type": "code",
   "execution_count": 6,
   "id": "55a1a189",
   "metadata": {},
   "outputs": [],
   "source": [
    "fine_tuned_VGG19 = keras.models.load_model('checkpointsv2/best_fine_tuned_VGG19.h5')"
   ]
  },
  {
   "cell_type": "code",
   "execution_count": 7,
   "id": "7d21d5bc",
   "metadata": {},
   "outputs": [],
   "source": [
    "augmented_VGG19 = keras.models.load_model('checkpointsv2/best_augmented_VGG19.h5')"
   ]
  },
  {
   "cell_type": "code",
   "execution_count": 8,
   "id": "985233ec",
   "metadata": {},
   "outputs": [],
   "source": [
    "augmented_balanced_VGG19 = keras.models.load_model('checkpoints/best_aumented_balanced_VGG19.h5')"
   ]
  },
  {
   "cell_type": "markdown",
   "id": "16fcbe3b",
   "metadata": {},
   "source": [
    "## 3. Chargement des variantes de VGG19"
   ]
  },
  {
   "cell_type": "code",
   "execution_count": 9,
   "id": "7f20f4eb",
   "metadata": {},
   "outputs": [],
   "source": [
    "models = {\n",
    "            'VGG19' : vanilla_VGG19,\n",
    "            'Fine tuned VGG19' : fine_tuned_VGG19,\n",
    "            'Fine tuned and Augmented VGG19' : augmented_VGG19,\n",
    "            'Fine tuned Augmented and Balanced VGG19' : augmented_balanced_VGG19\n",
    "         }"
   ]
  },
  {
   "cell_type": "markdown",
   "id": "ba3fa663",
   "metadata": {},
   "source": [
    "## 4. Test des modèles sur l'ensemble de la base de test"
   ]
  },
  {
   "cell_type": "code",
   "execution_count": 10,
   "id": "823b45dc",
   "metadata": {},
   "outputs": [],
   "source": [
    "# Initialize accuracy dict (for each model)\n",
    "accs = {}"
   ]
  },
  {
   "cell_type": "code",
   "execution_count": 11,
   "id": "c4fdacda",
   "metadata": {},
   "outputs": [],
   "source": [
    "for model_name, model_ in models.items():\n",
    "    test_loss, test_acc = model_.evaluate(test_images, test_labels, verbose=0)\n",
    "    accs[model_name] = test_acc"
   ]
  },
  {
   "cell_type": "code",
   "execution_count": 12,
   "id": "2ed74127",
   "metadata": {},
   "outputs": [],
   "source": [
    "### 4. Printing accuracy of the models accross all the test set"
   ]
  },
  {
   "cell_type": "code",
   "execution_count": 13,
   "id": "5892d1dd",
   "metadata": {},
   "outputs": [
    {
     "data": {
      "text/plain": [
       "{'VGG19': 0.5658409595489502,\n",
       " 'Fine tuned VGG19': 0.800195574760437,\n",
       " 'Fine tuned and Augmented VGG19': 0.78194260597229,\n",
       " 'Fine tuned Augmented and Balanced VGG19': 0.8132333755493164}"
      ]
     },
     "execution_count": 13,
     "metadata": {},
     "output_type": "execute_result"
    }
   ],
   "source": [
    "accs"
   ]
  },
  {
   "cell_type": "markdown",
   "id": "f80dfb18",
   "metadata": {},
   "source": [
    "## 5. Visualisation des performances (exactitude) des modèles"
   ]
  },
  {
   "cell_type": "code",
   "execution_count": 14,
   "id": "f2fa2e0b",
   "metadata": {},
   "outputs": [
    {
     "data": {
      "image/png": "[encoded data removed]",
      "text/plain": [
       "<Figure size 1224x720 with 1 Axes>"
      ]
     },
     "metadata": {
      "needs_background": "light"
     },
     "output_type": "display_data"
    }
   ],
   "source": [
    "# Define the colors for each bar\n",
    "colors = ['red', 'green', 'blue', 'orange']\n",
    "\n",
    "# Extract the model names and accuracy values\n",
    "model_names = list(accs.keys())\n",
    "accuracy_values = list(accs.values())\n",
    "\n",
    "# Set a larger figure size to create more space\n",
    "plt.figure(figsize=(17, 10))\n",
    "\n",
    "# Plot the bar plot\n",
    "plt.bar(model_names, accuracy_values, color=colors)\n",
    "xlabel = 'Models'\n",
    "# Set labels and title\n",
    "#plt.xlabel('Models')\n",
    "\n",
    "#plt.xlabel('Les modèles')  # Increase the fontsize as needed\n",
    "\n",
    "plt.ylabel('Exactitude (Accuracy)')\n",
    "#plt.title('Accuracy Comparison')\n",
    "\n",
    "# Show the plot\n",
    "plt.show()"
   ]
  },
  {
   "cell_type": "code",
   "execution_count": null,
   "id": "26ce7dd6",
   "metadata": {},
   "outputs": [],
   "source": []
  }
 ],
 "metadata": {
  "kernelspec": {
   "display_name": "Python 3",
   "language": "python",
   "name": "python3"
  },
  "language_info": {
   "codemirror_mode": {
    "name": "ipython",
    "version": 3
   },
   "file_extension": ".py",
   "mimetype": "text/x-python",
   "name": "python",
   "nbconvert_exporter": "python",
   "pygments_lexer": "ipython3",
   "version": "3.8.8"
  }
 },
 "nbformat": 4,
 "nbformat_minor": 5
}
