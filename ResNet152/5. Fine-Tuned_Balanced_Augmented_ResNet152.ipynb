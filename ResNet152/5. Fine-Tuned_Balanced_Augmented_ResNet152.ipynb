{
 "cells": [
  {
   "cell_type": "code",
   "execution_count": 1,
   "id": "1061c82d",
   "metadata": {},
   "outputs": [],
   "source": [
    "from fairness_sdk.data_preparation import RAFDB_subgroups_init, RAFDB_loader_api\n",
    "import matplotlib.pyplot as plt\n",
    "import numpy as np\n",
    "from tensorflow.keras.applications import ResNet152\n",
    "from tensorflow.keras.layers import Dense, GlobalAveragePooling2D\n",
    "from tensorflow.keras.models import Model\n",
    "from tensorflow.keras.callbacks import ModelCheckpoint, EarlyStopping\n",
    "from tensorflow.keras.optimizers import Adam\n",
    "from sklearn.model_selection import train_test_split\n",
    "from tensorflow.keras.preprocessing.image import ImageDataGenerator\n",
    "%matplotlib inline"
   ]
  },
  {
   "cell_type": "markdown",
   "id": "7bbf590c",
   "metadata": {},
   "source": [
    "## 1. Chargement des données de RAF-DB\n",
    "### 1. 1 Définition des constantes (chemin de la BD, dimensions, etc.)"
   ]
  },
  {
   "cell_type": "code",
   "execution_count": 2,
   "id": "de14a916",
   "metadata": {},
   "outputs": [],
   "source": [
    "FEATURES_PATH = '/export/livia/home/datasets/RAF/basic/Image/aligned/'\n",
    "ANNOTATIONS_PATH = '/export/livia/home/datasets/RAF/basic/Annotation/manual/Landmarks_5/'\n",
    "LABELS_PATH = '/export/livia/home/datasets/RAF/basic/EmoLabel/list_patition_label.txt'\n",
    "img_rows, img_cols, img_channels, num_classes = 224, 224, 3, 7"
   ]
  },
  {
   "cell_type": "markdown",
   "id": "7995bac0",
   "metadata": {},
   "source": [
    "### 1. 2 Chargement des données"
   ]
  },
  {
   "cell_type": "code",
   "execution_count": 3,
   "id": "50efe3a6",
   "metadata": {},
   "outputs": [],
   "source": [
    "raf_db = RAFDB_loader_api(FEATURES_PATH, ANNOTATIONS_PATH, LABELS_PATH, True)"
   ]
  },
  {
   "cell_type": "markdown",
   "id": "da95810d",
   "metadata": {},
   "source": [
    "### 1. 3 Initialisation des sous-groupes"
   ]
  },
  {
   "cell_type": "code",
   "execution_count": 4,
   "id": "68ce26a4",
   "metadata": {},
   "outputs": [],
   "source": [
    "train_images_gender, train_labels_gender, train_images_race, train_labels_race = RAFDB_subgroups_init()"
   ]
  },
  {
   "cell_type": "markdown",
   "id": "bbfb4549",
   "metadata": {},
   "source": [
    "### 1. 4. 1 Séparation des sous-groupes (pour la visualisation)"
   ]
  },
  {
   "cell_type": "code",
   "execution_count": 5,
   "id": "cfffbf8f",
   "metadata": {},
   "outputs": [],
   "source": [
    "train_images_gender['male'] = np.array(raf_db['images_gender']['male'])\n",
    "train_labels_gender['male'] = np.array(raf_db['labels_gender']['male'])\n",
    "train_images_gender['female'] = np.array(raf_db['images_gender']['female'])\n",
    "train_labels_gender['female'] = np.array(raf_db['labels_gender']['female'])\n",
    "\n",
    "train_images_race['caucasian'] = np.array(raf_db['images_race']['caucasian'])\n",
    "train_labels_race['caucasian'] = np.array(raf_db['labels_race']['caucasian'])\n",
    "train_images_race['asian'] = np.array(raf_db['images_race']['asian'])\n",
    "train_labels_race['asian'] = np.array(raf_db['labels_race']['asian'])\n",
    "train_images_race['african'] = np.array(raf_db['images_race']['african'])\n",
    "train_labels_race['african'] = np.array(raf_db['labels_race']['african'])"
   ]
  },
  {
   "cell_type": "markdown",
   "id": "01e3b5ea",
   "metadata": {},
   "source": [
    "## 2. Pré-traitement des données\n",
    "### 2. 1 Balancement de données avec la méthode d'Over Sampling"
   ]
  },
  {
   "cell_type": "code",
   "execution_count": 6,
   "id": "a78186b4",
   "metadata": {},
   "outputs": [],
   "source": [
    "# Take the subgroup with the highest number of instances\n",
    "max_samples = max(\n",
    "    len(train_images_gender['male']),\n",
    "    len(train_images_gender['female']),\n",
    "    len(train_images_race['asian']),\n",
    "    len(train_images_race['caucasian']),\n",
    "    len(train_images_race['african'])\n",
    ")"
   ]
  },
  {
   "cell_type": "code",
   "execution_count": 7,
   "id": "6d513243",
   "metadata": {},
   "outputs": [],
   "source": [
    "# Over sampling gender subgroup\n",
    "for gender in ['male', 'female']:\n",
    "    if len(train_images_gender[gender]) > max_samples:\n",
    "        indices = np.random.choice(len(train_images_gender[gender]), max_samples, replace=False)\n",
    "        train_images_gender[gender] = train_images_gender[gender][indices]\n",
    "        train_labels_gender[gender] = train_labels_gender[gender][indices]\n",
    "    elif len(train_images_gender[gender]) < max_samples:\n",
    "        num_samples = max_samples - len(train_images_gender[gender])\n",
    "        indices = np.random.choice(len(train_images_gender[gender]), num_samples, replace=True)\n",
    "        train_images_gender[gender] = np.concatenate((train_images_gender[gender], train_images_gender[gender][indices]))\n",
    "        train_labels_gender[gender] = np.concatenate((train_labels_gender[gender], train_labels_gender[gender][indices]))"
   ]
  },
  {
   "cell_type": "code",
   "execution_count": 8,
   "id": "4fc1bc5a",
   "metadata": {},
   "outputs": [],
   "source": [
    "# Over sampling race subgroup\n",
    "for race in train_images_race.keys():\n",
    "    num_samples = len(train_images_race[race])\n",
    "    if num_samples < max_samples:\n",
    "        num_samples_to_add = max_samples - num_samples\n",
    "        random_indices = np.random.choice(num_samples, num_samples_to_add)\n",
    "        train_images_race[race] = np.concatenate((train_images_race[race], train_images_race[race][random_indices]), axis=0)\n",
    "        train_labels_race[race] = np.concatenate((train_labels_race[race], train_labels_race[race][random_indices]), axis=0)"
   ]
  },
  {
   "cell_type": "markdown",
   "id": "324bf9de",
   "metadata": {},
   "source": [
    "### 2. 2 Reconstruction de la base de données"
   ]
  },
  {
   "cell_type": "code",
   "execution_count": 9,
   "id": "ec15796a",
   "metadata": {},
   "outputs": [],
   "source": [
    "# Combine the subgroups into a single dataset\n",
    "train_images = np.concatenate((train_images_gender['male'], train_images_gender['female'], train_images_race['caucasian'], train_images_race['asian'], train_images_race['african']), axis=0)\n",
    "train_labels = np.concatenate((train_labels_gender['male'], train_labels_gender['female'], train_labels_race['caucasian'], train_labels_race['asian'], train_labels_race['african']), axis=0)"
   ]
  },
  {
   "cell_type": "markdown",
   "id": "369a1117",
   "metadata": {},
   "source": [
    "## 3. Augmentation de la base de données"
   ]
  },
  {
   "cell_type": "code",
   "execution_count": 10,
   "id": "482986c1",
   "metadata": {},
   "outputs": [],
   "source": [
    "# Split the data into training and validation sets\n",
    "train_images, val_images, train_labels, val_labels = train_test_split(train_images, train_labels, test_size=0.2, random_state=42)\n",
    "\n",
    "# Create an instance of the ImageDataGenerator class with the desired data augmentation parameters\n",
    "datagen = ImageDataGenerator(\n",
    "    rotation_range=20, # Rotate images randomly by 20 degrees\n",
    "    width_shift_range=0.1, # Shift images horizontally by up to 10% of the width\n",
    "    height_shift_range=0.1, # Shift images vertically by up to 10% of the height\n",
    "    shear_range=0.2, # Apply shearing transformation with a maximum shear of 20%\n",
    "    zoom_range=0.2, # Randomly zoom in and out by 20%\n",
    "    horizontal_flip=True, # Flip images horizontally\n",
    "    fill_mode='nearest' # Fill any empty pixels with the nearest value\n",
    ")\n",
    "\n",
    "# Fit the ImageDataGenerator to the training data\n",
    "datagen.fit(train_images)"
   ]
  },
  {
   "cell_type": "markdown",
   "id": "24bb808b",
   "metadata": {},
   "source": [
    "## 4. Apprentissage de ResNet152 avec fine tuning, augmentation et balancement"
   ]
  },
  {
   "cell_type": "code",
   "execution_count": 11,
   "id": "d49423d3",
   "metadata": {},
   "outputs": [],
   "source": [
    "# Instantiate the model\n",
    "base_model = ResNet152(weights='imagenet', include_top=False, input_shape=(img_rows, img_cols, img_channels))\n",
    "\n",
    "# Add a global average pooling layer and a dense layer on top\n",
    "x = base_model.output\n",
    "x = GlobalAveragePooling2D()(x)\n",
    "x = Dense(1024, activation='relu')(x)\n",
    "predictions = Dense(num_classes, activation='softmax')(x)\n",
    "\n",
    "# Create the model\n",
    "model = Model(inputs=base_model.input, outputs=predictions)\n",
    "\n",
    "# Freeze the ResNet152 layers\n",
    "for layer in base_model.layers:\n",
    "    layer.trainable = False\n",
    "\n",
    "# Unfreeze the top 10 layers (fine tuning)\n",
    "for layer in model.layers[-10:]:\n",
    "    layer.trainable = True\n",
    "\n",
    "# Compile the model\n",
    "from tensorflow.keras.optimizers import Adam\n",
    "model.compile(optimizer=Adam(lr=0.0001), loss='categorical_crossentropy', metrics=['accuracy'])\n",
    "\n",
    "# Train the model with data augmentation\n",
    "batch_size = 32\n",
    "steps_per_epoch = train_images.shape[0] // batch_size\n",
    "validation_steps = val_images.shape[0] // batch_size\n",
    "\n",
    "train_generator = datagen.flow(train_images, train_labels, batch_size=batch_size, shuffle=True)\n",
    "val_generator = datagen.flow(val_images, val_labels, batch_size=batch_size, shuffle=False)"
   ]
  },
  {
   "cell_type": "code",
   "execution_count": 12,
   "id": "08c67051",
   "metadata": {},
   "outputs": [],
   "source": [
    "# Define checkpoint and early stopping callbacks\n",
    "checkpoint_dir = './checkpointsv2'\n",
    "checkpoint_file = checkpoint_dir + '/best_aumented_balanced_ResNet152.h5'\n",
    "checkpoint = ModelCheckpoint(filepath=checkpoint_file, monitor='val_accuracy', save_best_only=True, mode='max')\n",
    "early_stop = EarlyStopping(monitor='val_loss', patience=5, mode='min')"
   ]
  },
  {
   "cell_type": "code",
   "execution_count": 13,
   "id": "1d79adfc",
   "metadata": {},
   "outputs": [
    {
     "name": "stdout",
     "output_type": "stream",
     "text": [
      "Epoch 1/300\n",
      "1173/1173 [==============================] - 788s 655ms/step - loss: 1.2006 - accuracy: 0.5686 - val_loss: 0.9134 - val_accuracy: 0.6668\n",
      "Epoch 2/300\n",
      "1173/1173 [==============================] - 746s 636ms/step - loss: 0.7809 - accuracy: 0.7210 - val_loss: 0.6707 - val_accuracy: 0.7665\n",
      "Epoch 3/300\n",
      "1173/1173 [==============================] - 746s 636ms/step - loss: 0.6265 - accuracy: 0.7760 - val_loss: 0.5842 - val_accuracy: 0.7993\n",
      "Epoch 4/300\n",
      "1173/1173 [==============================] - 753s 642ms/step - loss: 0.5308 - accuracy: 0.8142 - val_loss: 0.5707 - val_accuracy: 0.7988\n",
      "Epoch 5/300\n",
      "1173/1173 [==============================] - 741s 632ms/step - loss: 0.4684 - accuracy: 0.8361 - val_loss: 0.5322 - val_accuracy: 0.8155\n",
      "Epoch 6/300\n",
      "1173/1173 [==============================] - 739s 630ms/step - loss: 0.4108 - accuracy: 0.8582 - val_loss: 0.4684 - val_accuracy: 0.8418\n",
      "Epoch 7/300\n",
      "1173/1173 [==============================] - 741s 632ms/step - loss: 0.3711 - accuracy: 0.8702 - val_loss: 0.4220 - val_accuracy: 0.8536\n",
      "Epoch 8/300\n",
      "1173/1173 [==============================] - 755s 643ms/step - loss: 0.3441 - accuracy: 0.8799 - val_loss: 0.4519 - val_accuracy: 0.8442\n",
      "Epoch 9/300\n",
      "1173/1173 [==============================] - 735s 626ms/step - loss: 0.3022 - accuracy: 0.8961 - val_loss: 0.4168 - val_accuracy: 0.8594\n",
      "Epoch 10/300\n",
      "1173/1173 [==============================] - 744s 634ms/step - loss: 0.2796 - accuracy: 0.9003 - val_loss: 0.3860 - val_accuracy: 0.8717\n",
      "Epoch 11/300\n",
      "1173/1173 [==============================] - 742s 633ms/step - loss: 0.2684 - accuracy: 0.9062 - val_loss: 0.3515 - val_accuracy: 0.8797\n",
      "Epoch 12/300\n",
      "1173/1173 [==============================] - 743s 634ms/step - loss: 0.2419 - accuracy: 0.9162 - val_loss: 0.3498 - val_accuracy: 0.8810\n",
      "Epoch 13/300\n",
      "1173/1173 [==============================] - 748s 638ms/step - loss: 0.2243 - accuracy: 0.9225 - val_loss: 0.3167 - val_accuracy: 0.8970\n",
      "Epoch 14/300\n",
      "1173/1173 [==============================] - 760s 648ms/step - loss: 0.2159 - accuracy: 0.9252 - val_loss: 0.3289 - val_accuracy: 0.8929\n",
      "Epoch 15/300\n",
      "1173/1173 [==============================] - 747s 637ms/step - loss: 0.2004 - accuracy: 0.9303 - val_loss: 0.2982 - val_accuracy: 0.8996\n",
      "Epoch 16/300\n",
      "1173/1173 [==============================] - 753s 642ms/step - loss: 0.1914 - accuracy: 0.9325 - val_loss: 0.3027 - val_accuracy: 0.8989\n",
      "Epoch 17/300\n",
      "1173/1173 [==============================] - 756s 644ms/step - loss: 0.1850 - accuracy: 0.9365 - val_loss: 0.2776 - val_accuracy: 0.9107\n",
      "Epoch 18/300\n",
      "1173/1173 [==============================] - 759s 647ms/step - loss: 0.1691 - accuracy: 0.9412 - val_loss: 0.2782 - val_accuracy: 0.9113\n",
      "Epoch 19/300\n",
      "1173/1173 [==============================] - 750s 639ms/step - loss: 0.1674 - accuracy: 0.9414 - val_loss: 0.2617 - val_accuracy: 0.9151\n",
      "Epoch 20/300\n",
      "1173/1173 [==============================] - 747s 637ms/step - loss: 0.1526 - accuracy: 0.9470 - val_loss: 0.2562 - val_accuracy: 0.9161\n",
      "Epoch 21/300\n",
      "1173/1173 [==============================] - 751s 640ms/step - loss: 0.1504 - accuracy: 0.9481 - val_loss: 0.2729 - val_accuracy: 0.9134\n",
      "Epoch 22/300\n",
      "1173/1173 [==============================] - 756s 644ms/step - loss: 0.1515 - accuracy: 0.9475 - val_loss: 0.2371 - val_accuracy: 0.9209\n",
      "Epoch 23/300\n",
      "1173/1173 [==============================] - 759s 647ms/step - loss: 0.1371 - accuracy: 0.9534 - val_loss: 0.2588 - val_accuracy: 0.9167\n",
      "Epoch 24/300\n",
      "1173/1173 [==============================] - 743s 633ms/step - loss: 0.1365 - accuracy: 0.9522 - val_loss: 0.2276 - val_accuracy: 0.9292\n",
      "Epoch 25/300\n",
      "1173/1173 [==============================] - 748s 638ms/step - loss: 0.1283 - accuracy: 0.9569 - val_loss: 0.2421 - val_accuracy: 0.9256\n",
      "Epoch 26/300\n",
      "1173/1173 [==============================] - 751s 640ms/step - loss: 0.1258 - accuracy: 0.9575 - val_loss: 0.2602 - val_accuracy: 0.9201\n",
      "Epoch 27/300\n",
      "1173/1173 [==============================] - 759s 647ms/step - loss: 0.1177 - accuracy: 0.9586 - val_loss: 0.2175 - val_accuracy: 0.9325\n",
      "Epoch 28/300\n",
      "1173/1173 [==============================] - 745s 635ms/step - loss: 0.1195 - accuracy: 0.9585 - val_loss: 0.2746 - val_accuracy: 0.9170\n",
      "Epoch 29/300\n",
      "1173/1173 [==============================] - 742s 632ms/step - loss: 0.1184 - accuracy: 0.9567 - val_loss: 0.2553 - val_accuracy: 0.9187\n",
      "Epoch 30/300\n",
      "1173/1173 [==============================] - 744s 635ms/step - loss: 0.1076 - accuracy: 0.9632 - val_loss: 0.2159 - val_accuracy: 0.9331\n",
      "Epoch 31/300\n",
      "1173/1173 [==============================] - 750s 639ms/step - loss: 0.1037 - accuracy: 0.9655 - val_loss: 0.2303 - val_accuracy: 0.9324\n",
      "Epoch 32/300\n",
      "1173/1173 [==============================] - 741s 631ms/step - loss: 0.1042 - accuracy: 0.9635 - val_loss: 0.1889 - val_accuracy: 0.9423\n",
      "Epoch 33/300\n",
      "1173/1173 [==============================] - 747s 637ms/step - loss: 0.1032 - accuracy: 0.9657 - val_loss: 0.2183 - val_accuracy: 0.9363\n",
      "Epoch 34/300\n",
      "1173/1173 [==============================] - 752s 641ms/step - loss: 0.1000 - accuracy: 0.9652 - val_loss: 0.2070 - val_accuracy: 0.9354\n",
      "Epoch 35/300\n",
      "1173/1173 [==============================] - 750s 639ms/step - loss: 0.0971 - accuracy: 0.9661 - val_loss: 0.2316 - val_accuracy: 0.9310\n",
      "Epoch 36/300\n",
      "1173/1173 [==============================] - 754s 643ms/step - loss: 0.0933 - accuracy: 0.9693 - val_loss: 0.2191 - val_accuracy: 0.9364\n",
      "Epoch 37/300\n",
      "1173/1173 [==============================] - 765s 652ms/step - loss: 0.0928 - accuracy: 0.9677 - val_loss: 0.2185 - val_accuracy: 0.9362\n"
     ]
    }
   ],
   "source": [
    "history = model.fit(train_generator, steps_per_epoch=steps_per_epoch, epochs=300, validation_data=val_generator, validation_steps=validation_steps, callbacks=[checkpoint, early_stop], verbose=1)"
   ]
  },
  {
   "cell_type": "code",
   "execution_count": 14,
   "id": "99e7991a",
   "metadata": {},
   "outputs": [
    {
     "data": {
      "image/png": "[encoded data removed]",
      "text/plain": [
       "<Figure size 432x288 with 1 Axes>"
      ]
     },
     "metadata": {
      "needs_background": "light"
     },
     "output_type": "display_data"
    },
    {
     "data": {
      "image/png": "[encoded data removed]",
      "text/plain": [
       "<Figure size 432x288 with 1 Axes>"
      ]
     },
     "metadata": {
      "needs_background": "light"
     },
     "output_type": "display_data"
    }
   ],
   "source": [
    "# Plot the accuracy for each epoch\n",
    "plt.plot(history.history['accuracy'])\n",
    "plt.plot(history.history['val_accuracy'])\n",
    "plt.title('Model accuracy')\n",
    "plt.xlabel('Epoch')\n",
    "plt.ylabel('Accuracy')\n",
    "plt.legend(['Train', 'Validation'], loc='upper left')\n",
    "plt.show()\n",
    "\n",
    "# Plot the loss for each epoch\n",
    "plt.plot(history.history['loss'])\n",
    "plt.plot(history.history['val_loss'])\n",
    "plt.title('Model loss')\n",
    "plt.xlabel('Epoch')\n",
    "plt.ylabel('Loss')\n",
    "plt.legend(['Train', 'Validation'], loc='upper left')\n",
    "plt.show()"
   ]
  },
  {
   "cell_type": "code",
   "execution_count": null,
   "id": "bce4a12b",
   "metadata": {},
   "outputs": [],
   "source": []
  }
 ],
 "metadata": {
  "kernelspec": {
   "display_name": "Python 3",
   "language": "python",
   "name": "python3"
  },
  "language_info": {
   "codemirror_mode": {
    "name": "ipython",
    "version": 3
   },
   "file_extension": ".py",
   "mimetype": "text/x-python",
   "name": "python",
   "nbconvert_exporter": "python",
   "pygments_lexer": "ipython3",
   "version": "3.8.8"
  }
 },
 "nbformat": 4,
 "nbformat_minor": 5
}
