{
 "cells": [
  {
   "cell_type": "code",
   "execution_count": 1,
   "id": "c1de1f5d",
   "metadata": {},
   "outputs": [],
   "source": [
    "from fairness_sdk.data_preparation import RAFDB_subgroups_init, RAFDB_loader_api\n",
    "import matplotlib.pyplot as plt\n",
    "import numpy as np\n",
    "from tensorflow.keras.applications import ResNet152\n",
    "from tensorflow.keras.layers import Dense, GlobalAveragePooling2D\n",
    "from tensorflow.keras.models import Model\n",
    "from tensorflow.keras.callbacks import ModelCheckpoint, EarlyStopping\n",
    "from tensorflow.keras.optimizers import Adam\n",
    "from sklearn.model_selection import train_test_split\n",
    "from tensorflow.keras.preprocessing.image import ImageDataGenerator\n",
    "%matplotlib inline"
   ]
  },
  {
   "cell_type": "markdown",
   "id": "7ad0c12b",
   "metadata": {},
   "source": [
    "## 1. Chargement des données de RAF-DB\n",
    "### 1. 1 Définition des constantes (chemin de la BD, dimensions, etc.)"
   ]
  },
  {
   "cell_type": "code",
   "execution_count": 2,
   "id": "41047d3f",
   "metadata": {},
   "outputs": [],
   "source": [
    "FEATURES_PATH = '/export/livia/home/datasets/RAF/basic/Image/aligned/'\n",
    "ANNOTATIONS_PATH = '/export/livia/home/datasets/RAF/basic/Annotation/manual/Landmarks_5/'\n",
    "LABELS_PATH = '/export/livia/home/datasets/RAF/basic/EmoLabel/list_patition_label.txt'\n",
    "img_rows, img_cols, img_channels, num_classes = 224, 224, 3, 7"
   ]
  },
  {
   "cell_type": "markdown",
   "id": "8140c909",
   "metadata": {},
   "source": [
    "### 1. 2 Chargement des données"
   ]
  },
  {
   "cell_type": "code",
   "execution_count": 3,
   "id": "dfd7b3fd",
   "metadata": {},
   "outputs": [],
   "source": [
    "raf_db = RAFDB_loader_api(FEATURES_PATH, ANNOTATIONS_PATH, LABELS_PATH, True)"
   ]
  },
  {
   "cell_type": "markdown",
   "id": "d2c81208",
   "metadata": {},
   "source": [
    "### 1. 3 Initialisation des sous-groupes"
   ]
  },
  {
   "cell_type": "code",
   "execution_count": 4,
   "id": "91377aa1",
   "metadata": {},
   "outputs": [],
   "source": [
    "train_images_gender, train_labels_gender, train_images_race, train_labels_race = RAFDB_subgroups_init()"
   ]
  },
  {
   "cell_type": "markdown",
   "id": "ac6c9c2e",
   "metadata": {},
   "source": [
    "### 1. 4. 1 Séparation des sous-groupes (pour la visualisation)"
   ]
  },
  {
   "cell_type": "code",
   "execution_count": 5,
   "id": "9ab3ef38",
   "metadata": {},
   "outputs": [],
   "source": [
    "train_images_gender['male'] = np.array(raf_db['images_gender']['male'])\n",
    "train_labels_gender['male'] = np.array(raf_db['labels_gender']['male'])\n",
    "train_images_gender['female'] = np.array(raf_db['images_gender']['female'])\n",
    "train_labels_gender['female'] = np.array(raf_db['labels_gender']['female'])\n",
    "\n",
    "train_images_race['caucasian'] = np.array(raf_db['images_race']['caucasian'])\n",
    "train_labels_race['caucasian'] = np.array(raf_db['labels_race']['caucasian'])\n",
    "train_images_race['asian'] = np.array(raf_db['images_race']['asian'])\n",
    "train_labels_race['asian'] = np.array(raf_db['labels_race']['asian'])\n",
    "train_images_race['african'] = np.array(raf_db['images_race']['african'])\n",
    "train_labels_race['african'] = np.array(raf_db['labels_race']['african'])"
   ]
  },
  {
   "cell_type": "markdown",
   "id": "42768ced",
   "metadata": {},
   "source": [
    "### 1. 4. 2 Reconstruction de la base de données"
   ]
  },
  {
   "cell_type": "code",
   "execution_count": 6,
   "id": "2eace861",
   "metadata": {},
   "outputs": [],
   "source": [
    "# Combine the subgroups into a single dataset\n",
    "train_images = np.concatenate((train_images_gender['male'], train_images_gender['female'], train_images_race['caucasian'], train_images_race['asian'], train_images_race['african']), axis=0)\n",
    "train_labels = np.concatenate((train_labels_gender['male'], train_labels_gender['female'], train_labels_race['caucasian'], train_labels_race['asian'], train_labels_race['african']), axis=0)"
   ]
  },
  {
   "cell_type": "markdown",
   "id": "579e0646",
   "metadata": {},
   "source": [
    "## 2. Augmentation de la base de données"
   ]
  },
  {
   "cell_type": "code",
   "execution_count": 7,
   "id": "92fa5eb1",
   "metadata": {},
   "outputs": [],
   "source": [
    "# Split the data into training and validation sets\n",
    "train_images, val_images, train_labels, val_labels = train_test_split(train_images, train_labels, test_size=0.2, random_state=42)\n",
    "\n",
    "# Create an instance of the ImageDataGenerator class with the desired data augmentation parameters\n",
    "datagen = ImageDataGenerator(\n",
    "    rotation_range=20, # Rotate images randomly by 20 degrees\n",
    "    width_shift_range=0.1, # Shift images horizontally by up to 10% of the width\n",
    "    height_shift_range=0.1, # Shift images vertically by up to 10% of the height\n",
    "    shear_range=0.2, # Apply shearing transformation with a maximum shear of 20%\n",
    "    zoom_range=0.2, # Randomly zoom in and out by 20%\n",
    "    horizontal_flip=True, # Flip images horizontally\n",
    "    fill_mode='nearest' # Fill any empty pixels with the nearest value\n",
    ")\n",
    "\n",
    "# Fit the ImageDataGenerator to the training data\n",
    "datagen.fit(train_images)"
   ]
  },
  {
   "cell_type": "markdown",
   "id": "1aa65545",
   "metadata": {},
   "source": [
    "## 3. Apprentissage de ResNet152 avec fine tuning et augmentation"
   ]
  },
  {
   "cell_type": "code",
   "execution_count": 8,
   "id": "658b85f3",
   "metadata": {},
   "outputs": [],
   "source": [
    "# Instantiate the model\n",
    "base_model = ResNet152(weights='imagenet', include_top=False, input_shape=(img_rows, img_cols, img_channels))\n",
    "\n",
    "# Add a global average pooling layer and a dense layer on top\n",
    "x = base_model.output\n",
    "x = GlobalAveragePooling2D()(x)\n",
    "x = Dense(1024, activation='relu')(x)\n",
    "predictions = Dense(num_classes, activation='softmax')(x)\n",
    "\n",
    "# Create the model\n",
    "model = Model(inputs=base_model.input, outputs=predictions)\n",
    "\n",
    "# Freeze the ResNet152 layers\n",
    "for layer in base_model.layers:\n",
    "    layer.trainable = False\n",
    "\n",
    "# Unfreeze the top 10 layers (fine tuning)\n",
    "for layer in model.layers[-10:]:\n",
    "    layer.trainable = True\n",
    "\n",
    "# Compile the model\n",
    "from tensorflow.keras.optimizers import Adam\n",
    "model.compile(optimizer=Adam(lr=0.0001), loss='categorical_crossentropy', metrics=['accuracy'])\n",
    "\n",
    "# Train the model with data augmentation\n",
    "batch_size = 32\n",
    "steps_per_epoch = train_images.shape[0] // batch_size\n",
    "validation_steps = val_images.shape[0] // batch_size\n",
    "\n",
    "train_generator = datagen.flow(train_images, train_labels, batch_size=batch_size, shuffle=True)\n",
    "val_generator = datagen.flow(val_images, val_labels, batch_size=batch_size, shuffle=False)"
   ]
  },
  {
   "cell_type": "code",
   "execution_count": 9,
   "id": "0d20b849",
   "metadata": {},
   "outputs": [],
   "source": [
    "# Define checkpoint and early stopping callbacks\n",
    "checkpoint_dir = './checkpointsv2'\n",
    "checkpoint_file = checkpoint_dir + '/Fine-Tuned_Augmented_ResNet152.h5'\n",
    "checkpoint = ModelCheckpoint(filepath=checkpoint_file, monitor='val_accuracy', save_best_only=True, mode='max')\n",
    "early_stop = EarlyStopping(monitor='val_loss', patience=5, mode='min')"
   ]
  },
  {
   "cell_type": "code",
   "execution_count": 10,
   "id": "b9a717f9",
   "metadata": {},
   "outputs": [
    {
     "name": "stdout",
     "output_type": "stream",
     "text": [
      "Epoch 1/300\n",
      "613/613 [==============================] - 419s 656ms/step - loss: 1.3518 - accuracy: 0.5094 - val_loss: 0.9997 - val_accuracy: 0.6368\n",
      "Epoch 2/300\n",
      "613/613 [==============================] - 386s 630ms/step - loss: 0.9571 - accuracy: 0.6555 - val_loss: 0.9265 - val_accuracy: 0.6609\n",
      "Epoch 3/300\n",
      "613/613 [==============================] - 383s 624ms/step - loss: 0.8456 - accuracy: 0.6975 - val_loss: 0.9222 - val_accuracy: 0.6710\n",
      "Epoch 4/300\n",
      "613/613 [==============================] - 393s 642ms/step - loss: 0.7629 - accuracy: 0.7208 - val_loss: 0.8188 - val_accuracy: 0.7020\n",
      "Epoch 5/300\n",
      "613/613 [==============================] - 390s 636ms/step - loss: 0.6937 - accuracy: 0.7519 - val_loss: 0.8550 - val_accuracy: 0.6983\n",
      "Epoch 6/300\n",
      "613/613 [==============================] - 385s 628ms/step - loss: 0.6456 - accuracy: 0.7725 - val_loss: 0.7688 - val_accuracy: 0.7243\n",
      "Epoch 7/300\n",
      "613/613 [==============================] - 387s 631ms/step - loss: 0.6070 - accuracy: 0.7854 - val_loss: 0.7423 - val_accuracy: 0.7375\n",
      "Epoch 8/300\n",
      "613/613 [==============================] - 398s 649ms/step - loss: 0.5681 - accuracy: 0.7967 - val_loss: 0.7170 - val_accuracy: 0.7516\n",
      "Epoch 9/300\n",
      "613/613 [==============================] - 399s 651ms/step - loss: 0.5070 - accuracy: 0.8177 - val_loss: 0.6865 - val_accuracy: 0.7590\n",
      "Epoch 10/300\n",
      "613/613 [==============================] - 387s 631ms/step - loss: 0.4895 - accuracy: 0.8265 - val_loss: 0.6712 - val_accuracy: 0.7647\n",
      "Epoch 11/300\n",
      "613/613 [==============================] - 394s 642ms/step - loss: 0.4535 - accuracy: 0.8398 - val_loss: 0.6219 - val_accuracy: 0.7819\n",
      "Epoch 12/300\n",
      "613/613 [==============================] - 394s 643ms/step - loss: 0.4239 - accuracy: 0.8494 - val_loss: 0.6282 - val_accuracy: 0.7902\n",
      "Epoch 13/300\n",
      "613/613 [==============================] - 392s 640ms/step - loss: 0.4060 - accuracy: 0.8538 - val_loss: 0.6260 - val_accuracy: 0.7898\n",
      "Epoch 14/300\n",
      "613/613 [==============================] - 395s 645ms/step - loss: 0.3791 - accuracy: 0.8629 - val_loss: 0.5995 - val_accuracy: 0.7945\n",
      "Epoch 15/300\n",
      "613/613 [==============================] - 383s 625ms/step - loss: 0.3504 - accuracy: 0.8741 - val_loss: 0.5691 - val_accuracy: 0.8074\n",
      "Epoch 16/300\n",
      "613/613 [==============================] - 386s 629ms/step - loss: 0.3352 - accuracy: 0.8800 - val_loss: 0.5761 - val_accuracy: 0.8070\n",
      "Epoch 17/300\n",
      "613/613 [==============================] - 397s 648ms/step - loss: 0.3289 - accuracy: 0.8849 - val_loss: 0.5911 - val_accuracy: 0.8072\n",
      "Epoch 18/300\n",
      "613/613 [==============================] - 400s 653ms/step - loss: 0.3006 - accuracy: 0.8882 - val_loss: 0.6213 - val_accuracy: 0.7870\n",
      "Epoch 19/300\n",
      "613/613 [==============================] - 385s 628ms/step - loss: 0.2866 - accuracy: 0.8975 - val_loss: 0.5189 - val_accuracy: 0.8241\n",
      "Epoch 20/300\n",
      "613/613 [==============================] - 384s 626ms/step - loss: 0.2787 - accuracy: 0.9039 - val_loss: 0.5530 - val_accuracy: 0.8252\n",
      "Epoch 21/300\n",
      "613/613 [==============================] - 384s 626ms/step - loss: 0.2658 - accuracy: 0.9076 - val_loss: 0.5647 - val_accuracy: 0.8172\n",
      "Epoch 22/300\n",
      "613/613 [==============================] - 383s 625ms/step - loss: 0.2656 - accuracy: 0.9075 - val_loss: 0.5447 - val_accuracy: 0.8258\n",
      "Epoch 23/300\n",
      "613/613 [==============================] - 397s 647ms/step - loss: 0.2537 - accuracy: 0.9110 - val_loss: 0.5307 - val_accuracy: 0.8290\n",
      "Epoch 24/300\n",
      "613/613 [==============================] - 393s 641ms/step - loss: 0.2501 - accuracy: 0.9127 - val_loss: 0.5104 - val_accuracy: 0.8395\n",
      "Epoch 25/300\n",
      "613/613 [==============================] - 393s 641ms/step - loss: 0.2256 - accuracy: 0.9227 - val_loss: 0.5111 - val_accuracy: 0.8468\n",
      "Epoch 26/300\n",
      "613/613 [==============================] - 386s 630ms/step - loss: 0.2318 - accuracy: 0.9162 - val_loss: 0.6125 - val_accuracy: 0.8100\n",
      "Epoch 27/300\n",
      "613/613 [==============================] - 388s 633ms/step - loss: 0.2254 - accuracy: 0.9224 - val_loss: 0.4906 - val_accuracy: 0.8505\n",
      "Epoch 28/300\n",
      "613/613 [==============================] - 384s 626ms/step - loss: 0.2140 - accuracy: 0.9232 - val_loss: 0.4908 - val_accuracy: 0.8487\n",
      "Epoch 29/300\n",
      "613/613 [==============================] - 388s 633ms/step - loss: 0.2143 - accuracy: 0.9229 - val_loss: 0.5171 - val_accuracy: 0.8452\n",
      "Epoch 30/300\n",
      "613/613 [==============================] - 390s 636ms/step - loss: 0.2011 - accuracy: 0.9299 - val_loss: 0.4616 - val_accuracy: 0.8580\n",
      "Epoch 31/300\n",
      "613/613 [==============================] - 399s 651ms/step - loss: 0.1899 - accuracy: 0.9345 - val_loss: 0.4900 - val_accuracy: 0.8501\n",
      "Epoch 32/300\n",
      "613/613 [==============================] - 386s 630ms/step - loss: 0.1880 - accuracy: 0.9328 - val_loss: 0.4913 - val_accuracy: 0.8505\n",
      "Epoch 33/300\n",
      "613/613 [==============================] - 393s 641ms/step - loss: 0.1931 - accuracy: 0.9309 - val_loss: 0.4783 - val_accuracy: 0.8617\n",
      "Epoch 34/300\n",
      "613/613 [==============================] - 398s 649ms/step - loss: 0.1818 - accuracy: 0.9370 - val_loss: 0.4586 - val_accuracy: 0.8625\n",
      "Epoch 35/300\n",
      "613/613 [==============================] - 385s 629ms/step - loss: 0.1723 - accuracy: 0.9410 - val_loss: 0.4259 - val_accuracy: 0.8703\n",
      "Epoch 36/300\n",
      "613/613 [==============================] - 384s 626ms/step - loss: 0.1784 - accuracy: 0.9362 - val_loss: 0.4434 - val_accuracy: 0.8672\n",
      "Epoch 37/300\n",
      "613/613 [==============================] - 381s 621ms/step - loss: 0.1660 - accuracy: 0.9425 - val_loss: 0.4419 - val_accuracy: 0.8662\n",
      "Epoch 38/300\n",
      "613/613 [==============================] - 393s 642ms/step - loss: 0.1678 - accuracy: 0.9419 - val_loss: 0.4548 - val_accuracy: 0.8685\n",
      "Epoch 39/300\n",
      "613/613 [==============================] - 385s 628ms/step - loss: 0.1661 - accuracy: 0.9423 - val_loss: 0.4686 - val_accuracy: 0.8625\n",
      "Epoch 40/300\n",
      "613/613 [==============================] - 386s 630ms/step - loss: 0.1579 - accuracy: 0.9460 - val_loss: 0.4621 - val_accuracy: 0.8750\n"
     ]
    }
   ],
   "source": [
    "history = model.fit(train_generator, steps_per_epoch=steps_per_epoch, epochs=300, validation_data=val_generator, validation_steps=validation_steps, callbacks=[checkpoint, early_stop], verbose=1)"
   ]
  },
  {
   "cell_type": "code",
   "execution_count": 11,
   "id": "04455b52",
   "metadata": {},
   "outputs": [
    {
     "data": {
      "image/png": "[encoded data removed]",
      "text/plain": [
       "<Figure size 432x288 with 1 Axes>"
      ]
     },
     "metadata": {
      "needs_background": "light"
     },
     "output_type": "display_data"
    },
    {
     "data": {
      "image/png": "[encoded data removed]",
      "text/plain": [
       "<Figure size 432x288 with 1 Axes>"
      ]
     },
     "metadata": {
      "needs_background": "light"
     },
     "output_type": "display_data"
    }
   ],
   "source": [
    "# Plot the accuracy for each epoch\n",
    "plt.plot(history.history['accuracy'])\n",
    "plt.plot(history.history['val_accuracy'])\n",
    "plt.title('Model accuracy')\n",
    "plt.xlabel('Epoch')\n",
    "plt.ylabel('Accuracy')\n",
    "plt.legend(['Train', 'Validation'], loc='upper left')\n",
    "plt.show()\n",
    "\n",
    "# Plot the loss for each epoch\n",
    "plt.plot(history.history['loss'])\n",
    "plt.plot(history.history['val_loss'])\n",
    "plt.title('Model loss')\n",
    "plt.xlabel('Epoch')\n",
    "plt.ylabel('Loss')\n",
    "plt.legend(['Train', 'Validation'], loc='upper left')\n",
    "plt.show()"
   ]
  },
  {
   "cell_type": "code",
   "execution_count": null,
   "id": "5d626f45",
   "metadata": {},
   "outputs": [],
   "source": []
  }
 ],
 "metadata": {
  "kernelspec": {
   "display_name": "Python 3",
   "language": "python",
   "name": "python3"
  },
  "language_info": {
   "codemirror_mode": {
    "name": "ipython",
    "version": 3
   },
   "file_extension": ".py",
   "mimetype": "text/x-python",
   "name": "python",
   "nbconvert_exporter": "python",
   "pygments_lexer": "ipython3",
   "version": "3.8.8"
  }
 },
 "nbformat": 4,
 "nbformat_minor": 5
}
