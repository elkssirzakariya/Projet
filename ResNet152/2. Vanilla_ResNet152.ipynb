{
 "cells": [
  {
   "cell_type": "code",
   "execution_count": 3,
   "id": "5cefd055",
   "metadata": {},
   "outputs": [],
   "source": [
    "from fairness_sdk.data_preparation import RAFDB_subgroups_init, RAFDB_loader_api\n",
    "import numpy as np\n",
    "from tensorflow.keras.applications import ResNet152\n",
    "from tensorflow.keras.layers import Dense, GlobalAveragePooling2D\n",
    "from tensorflow.keras.models import Model\n",
    "from tensorflow.keras.callbacks import ModelCheckpoint, EarlyStopping"
   ]
  },
  {
   "cell_type": "code",
   "execution_count": 4,
   "id": "c8261a47",
   "metadata": {},
   "outputs": [],
   "source": [
    "import matplotlib.pyplot as plt"
   ]
  },
  {
   "cell_type": "markdown",
   "id": "a0d6a848",
   "metadata": {},
   "source": [
    "## 1. Chargement des données de RAF-DB\n",
    "### 1. 1 Définition des constantes (chemin de la BD, dimensions, etc.)"
   ]
  },
  {
   "cell_type": "code",
   "execution_count": 5,
   "id": "cf4e7b05",
   "metadata": {},
   "outputs": [],
   "source": [
    "FEATURES_PATH = '/export/livia/home/datasets/RAF/basic/Image/aligned/'\n",
    "ANNOTATIONS_PATH = '/export/livia/home/datasets/RAF/basic/Annotation/manual/Landmarks_5/'\n",
    "LABELS_PATH = '/export/livia/home/datasets/RAF/basic/EmoLabel/list_patition_label.txt'\n",
    "img_rows, img_cols, img_channels, num_classes = 224, 224, 3, 7"
   ]
  },
  {
   "cell_type": "markdown",
   "id": "e017a601",
   "metadata": {},
   "source": [
    "### 1. 2 Chargement des données"
   ]
  },
  {
   "cell_type": "code",
   "execution_count": 6,
   "id": "5223d05e",
   "metadata": {},
   "outputs": [],
   "source": [
    "raf_db = RAFDB_loader_api(FEATURES_PATH, ANNOTATIONS_PATH, LABELS_PATH, True)"
   ]
  },
  {
   "cell_type": "markdown",
   "id": "61905c12",
   "metadata": {},
   "source": [
    "### 1. 3 Initialisation des sous-groupes"
   ]
  },
  {
   "cell_type": "code",
   "execution_count": 7,
   "id": "2ddcc42c",
   "metadata": {},
   "outputs": [],
   "source": [
    "train_images_gender, train_labels_gender, train_images_race, train_labels_race = RAFDB_subgroups_init()"
   ]
  },
  {
   "cell_type": "markdown",
   "id": "2708ff1a",
   "metadata": {},
   "source": [
    "### 1. 4. 1 Séparation des sous-groupes (pour la visualisation)"
   ]
  },
  {
   "cell_type": "code",
   "execution_count": 8,
   "id": "c427cb4e",
   "metadata": {},
   "outputs": [],
   "source": [
    "train_images_gender['male'] = np.array(raf_db['images_gender']['male'])\n",
    "train_labels_gender['male'] = np.array(raf_db['labels_gender']['male'])\n",
    "train_images_gender['female'] = np.array(raf_db['images_gender']['female'])\n",
    "train_labels_gender['female'] = np.array(raf_db['labels_gender']['female'])\n",
    "\n",
    "train_images_race['caucasian'] = np.array(raf_db['images_race']['caucasian'])\n",
    "train_labels_race['caucasian'] = np.array(raf_db['labels_race']['caucasian'])\n",
    "train_images_race['asian'] = np.array(raf_db['images_race']['asian'])\n",
    "train_labels_race['asian'] = np.array(raf_db['labels_race']['asian'])\n",
    "train_images_race['african'] = np.array(raf_db['images_race']['african'])\n",
    "train_labels_race['african'] = np.array(raf_db['labels_race']['african'])"
   ]
  },
  {
   "cell_type": "markdown",
   "id": "21d0bb3f",
   "metadata": {},
   "source": [
    "### 1. 4. 2 Reconstruction de la base de données"
   ]
  },
  {
   "cell_type": "code",
   "execution_count": 9,
   "id": "7736c733",
   "metadata": {},
   "outputs": [],
   "source": [
    "train_images = np.concatenate([ raf_db['images_gender']['male'],\n",
    "                                raf_db['images_gender']['female'],\n",
    "                                raf_db['images_race']['caucasian'],\n",
    "                                raf_db['images_race']['asian'],\n",
    "                                raf_db['images_race']['african']\n",
    "])\n",
    "\n",
    "train_labels = np.concatenate([ raf_db['labels_gender']['male'],\n",
    "                                raf_db['labels_gender']['female'],\n",
    "                                raf_db['labels_race']['caucasian'],\n",
    "                                raf_db['labels_race']['asian'],\n",
    "                                raf_db['labels_race']['african']\n",
    "])"
   ]
  },
  {
   "cell_type": "markdown",
   "id": "130477da",
   "metadata": {},
   "source": [
    "## 2. Apprentissage de ResNet152 sans fine tuning"
   ]
  },
  {
   "cell_type": "code",
   "execution_count": 10,
   "id": "7d064ff2",
   "metadata": {},
   "outputs": [],
   "source": [
    "# Instantiate the model\n",
    "base_model = ResNet152(weights='imagenet', include_top=False, input_shape=(img_rows, img_cols, img_channels))\n",
    "\n",
    "# Add a global average pooling layer and a dense layer on top of the ResNet152 baseline model\n",
    "x = base_model.output\n",
    "x = GlobalAveragePooling2D()(x)\n",
    "x = Dense(1024, activation='relu')(x)\n",
    "predictions = Dense(num_classes, activation='softmax')(x)\n",
    "\n",
    "# Create the model\n",
    "model = Model(inputs=base_model.input, outputs=predictions)\n",
    "\n",
    "# Freeze the base model pre-trained layers (so that we do not lose their weights)\n",
    "for layer in base_model.layers:\n",
    "    layer.trainable = False\n",
    "\n",
    "# Compile the model\n",
    "model.compile(optimizer='adam', loss='categorical_crossentropy', metrics=['accuracy'])\n",
    "\n",
    "# Define checkpoint and early stopping callbacks\n",
    "checkpoint_dir = './checkpointsv2'\n",
    "checkpoint_file = checkpoint_dir + '/best_vanilla_ResNet152.h5'\n",
    "checkpoint = ModelCheckpoint(filepath=checkpoint_file, monitor='val_accuracy', save_best_only=True, mode='max')\n",
    "early_stop = EarlyStopping(monitor='val_loss', patience=5, mode='min')"
   ]
  },
  {
   "cell_type": "code",
   "execution_count": 11,
   "id": "44f28d4d",
   "metadata": {},
   "outputs": [
    {
     "name": "stdout",
     "output_type": "stream",
     "text": [
      "Epoch 1/100\n",
      "614/614 [==============================] - 102s 137ms/step - loss: 1.4452 - accuracy: 0.5350 - val_loss: 1.0339 - val_accuracy: 0.6262\n",
      "Epoch 2/100\n",
      "614/614 [==============================] - 75s 122ms/step - loss: 0.9023 - accuracy: 0.6730 - val_loss: 0.8939 - val_accuracy: 0.6796\n",
      "Epoch 3/100\n",
      "614/614 [==============================] - 75s 123ms/step - loss: 0.7496 - accuracy: 0.7303 - val_loss: 0.8044 - val_accuracy: 0.7067\n",
      "Epoch 4/100\n",
      "614/614 [==============================] - 75s 122ms/step - loss: 0.6281 - accuracy: 0.7785 - val_loss: 0.7666 - val_accuracy: 0.7272\n",
      "Epoch 5/100\n",
      "614/614 [==============================] - 75s 122ms/step - loss: 0.5142 - accuracy: 0.8258 - val_loss: 0.5887 - val_accuracy: 0.7879\n",
      "Epoch 6/100\n",
      "614/614 [==============================] - 75s 122ms/step - loss: 0.3974 - accuracy: 0.8626 - val_loss: 0.4701 - val_accuracy: 0.8311\n",
      "Epoch 7/100\n",
      "614/614 [==============================] - 75s 122ms/step - loss: 0.3203 - accuracy: 0.8905 - val_loss: 0.4166 - val_accuracy: 0.8517\n",
      "Epoch 8/100\n",
      "614/614 [==============================] - 76s 123ms/step - loss: 0.2533 - accuracy: 0.9157 - val_loss: 0.3089 - val_accuracy: 0.8955\n",
      "Epoch 9/100\n",
      "614/614 [==============================] - 75s 123ms/step - loss: 0.1988 - accuracy: 0.9355 - val_loss: 0.6439 - val_accuracy: 0.7582\n",
      "Epoch 10/100\n",
      "614/614 [==============================] - 75s 123ms/step - loss: 0.1689 - accuracy: 0.9447 - val_loss: 0.2188 - val_accuracy: 0.9242\n",
      "Epoch 11/100\n",
      "614/614 [==============================] - 75s 123ms/step - loss: 0.1419 - accuracy: 0.9566 - val_loss: 0.1681 - val_accuracy: 0.9411\n",
      "Epoch 12/100\n",
      "614/614 [==============================] - 75s 122ms/step - loss: 0.0899 - accuracy: 0.9760 - val_loss: 0.1950 - val_accuracy: 0.9301\n",
      "Epoch 13/100\n",
      "614/614 [==============================] - 75s 123ms/step - loss: 0.1116 - accuracy: 0.9621 - val_loss: 0.1856 - val_accuracy: 0.9342\n",
      "Epoch 14/100\n",
      "614/614 [==============================] - 75s 123ms/step - loss: 0.0840 - accuracy: 0.9752 - val_loss: 0.1318 - val_accuracy: 0.9548\n",
      "Epoch 15/100\n",
      "614/614 [==============================] - 75s 122ms/step - loss: 0.0765 - accuracy: 0.9743 - val_loss: 0.2348 - val_accuracy: 0.9075\n",
      "Epoch 16/100\n",
      "614/614 [==============================] - 75s 123ms/step - loss: 0.0856 - accuracy: 0.9708 - val_loss: 0.1040 - val_accuracy: 0.9658\n",
      "Epoch 17/100\n",
      "614/614 [==============================] - 75s 122ms/step - loss: 0.0562 - accuracy: 0.9819 - val_loss: 0.1604 - val_accuracy: 0.9442\n",
      "Epoch 18/100\n",
      "614/614 [==============================] - 76s 123ms/step - loss: 0.0468 - accuracy: 0.9847 - val_loss: 0.1468 - val_accuracy: 0.9452\n",
      "Epoch 19/100\n",
      "614/614 [==============================] - 75s 123ms/step - loss: 0.0681 - accuracy: 0.9783 - val_loss: 0.0805 - val_accuracy: 0.9729\n",
      "Epoch 20/100\n",
      "614/614 [==============================] - 75s 123ms/step - loss: 0.0547 - accuracy: 0.9817 - val_loss: 0.0330 - val_accuracy: 0.9908\n",
      "Epoch 21/100\n",
      "614/614 [==============================] - 75s 123ms/step - loss: 0.0419 - accuracy: 0.9854 - val_loss: 0.0981 - val_accuracy: 0.9650\n",
      "Epoch 22/100\n",
      "614/614 [==============================] - 75s 123ms/step - loss: 0.0984 - accuracy: 0.9674 - val_loss: 0.0657 - val_accuracy: 0.9760\n",
      "Epoch 23/100\n",
      "614/614 [==============================] - 75s 123ms/step - loss: 0.0462 - accuracy: 0.9840 - val_loss: 0.1499 - val_accuracy: 0.9456\n",
      "Epoch 24/100\n",
      "614/614 [==============================] - 75s 122ms/step - loss: 0.0461 - accuracy: 0.9852 - val_loss: 0.0785 - val_accuracy: 0.9725\n",
      "Epoch 25/100\n",
      "614/614 [==============================] - 75s 123ms/step - loss: 0.0320 - accuracy: 0.9898 - val_loss: 0.0174 - val_accuracy: 0.9965\n",
      "Epoch 26/100\n",
      "614/614 [==============================] - 75s 123ms/step - loss: 0.0104 - accuracy: 0.9977 - val_loss: 0.2168 - val_accuracy: 0.9309\n",
      "Epoch 27/100\n",
      "614/614 [==============================] - 76s 123ms/step - loss: 0.1193 - accuracy: 0.9608 - val_loss: 0.0186 - val_accuracy: 0.9951\n",
      "Epoch 28/100\n",
      "614/614 [==============================] - 75s 123ms/step - loss: 0.0164 - accuracy: 0.9948 - val_loss: 0.0564 - val_accuracy: 0.9800\n",
      "Epoch 29/100\n",
      "614/614 [==============================] - 75s 122ms/step - loss: 0.0740 - accuracy: 0.9745 - val_loss: 0.1129 - val_accuracy: 0.9627\n",
      "Epoch 30/100\n",
      "614/614 [==============================] - 75s 122ms/step - loss: 0.0531 - accuracy: 0.9809 - val_loss: 0.0322 - val_accuracy: 0.9898\n"
     ]
    }
   ],
   "source": [
    "# Train the model\n",
    "history = model.fit(train_images, train_labels, batch_size=32, epochs=100, validation_split=0.2, callbacks=[checkpoint, early_stop], verbose=1)"
   ]
  },
  {
   "cell_type": "code",
   "execution_count": 12,
   "id": "b371fe96",
   "metadata": {},
   "outputs": [
    {
     "data": {
      "image/png": "[encoded data removed]",
      "text/plain": [
       "<Figure size 432x288 with 1 Axes>"
      ]
     },
     "metadata": {
      "needs_background": "light"
     },
     "output_type": "display_data"
    },
    {
     "data": {
      "image/png": "[encoded data removed]",
      "text/plain": [
       "<Figure size 432x288 with 1 Axes>"
      ]
     },
     "metadata": {
      "needs_background": "light"
     },
     "output_type": "display_data"
    }
   ],
   "source": [
    "# Plot the accuracy for each epoch\n",
    "plt.plot(history.history['accuracy'])\n",
    "plt.plot(history.history['val_accuracy'])\n",
    "plt.title('Model accuracy')\n",
    "plt.xlabel('Epoch')\n",
    "plt.ylabel('Accuracy')\n",
    "plt.legend(['Train', 'Validation'], loc='upper left')\n",
    "plt.show()\n",
    "\n",
    "# Plot the loss for each epoch\n",
    "plt.plot(history.history['loss'])\n",
    "plt.plot(history.history['val_loss'])\n",
    "plt.title('Model loss')\n",
    "plt.xlabel('Epoch')\n",
    "plt.ylabel('Loss')\n",
    "plt.legend(['Train', 'Validation'], loc='upper left')\n",
    "plt.show()"
   ]
  },
  {
   "cell_type": "code",
   "execution_count": null,
   "id": "4bf206a5",
   "metadata": {},
   "outputs": [],
   "source": []
  }
 ],
 "metadata": {
  "kernelspec": {
   "display_name": "Python 3",
   "language": "python",
   "name": "python3"
  },
  "language_info": {
   "codemirror_mode": {
    "name": "ipython",
    "version": 3
   },
   "file_extension": ".py",
   "mimetype": "text/x-python",
   "name": "python",
   "nbconvert_exporter": "python",
   "pygments_lexer": "ipython3",
   "version": "3.8.8"
  }
 },
 "nbformat": 4,
 "nbformat_minor": 5
}
